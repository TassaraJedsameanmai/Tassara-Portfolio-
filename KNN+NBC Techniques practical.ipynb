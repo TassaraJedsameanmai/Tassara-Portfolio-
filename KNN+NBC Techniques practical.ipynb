{
  "cells": [
    {
      "cell_type": "markdown",
      "metadata": {
        "id": "MA48-IrSsRes"
      },
      "source": [
        "# Week 10 Practical Tasks\n",
        "## KNN Classifier and Naive Bayes Classifier"
      ]
    },
    {
      "cell_type": "markdown",
      "metadata": {
        "id": "NZh4qGT3sRet"
      },
      "source": [
        "### 1. Classifying Iris Species with KNN Classifier\n",
        "In this section, we will go through a simple machine learning application and create\n",
        "our first classification model. In the process, we will introduce some core concepts and terms.\n",
        "\n",
        "Let’s assume that a hobby botanist is interested in distinguishing the species of some\n",
        "iris flowers that she has found. She has collected some measurements associated with\n",
        "each iris: the length and width of the petals and the length and width of the sepals, all\n",
        "measured in centimeters.\n",
        "\n",
        "She also has the measurements of some irises that have been previously identified by\n",
        "an expert botanist as belonging to the species setosa, versicolor, or virginica. For these\n",
        "measurements, she can be certain of which species each iris belongs to. Let’s assume\n",
        "that these are the only species our hobby botanist will encounter in the wild.\n",
        "\n",
        "Our goal is to build a machine learning model that can learn from the measurements\n",
        "of these irises whose species is known, so that we can predict the species for a new\n",
        "iris.\n",
        "\n",
        "Reference: Introduction to Machine learning with Python"
      ]
    },
    {
      "cell_type": "markdown",
      "metadata": {
        "id": "gWVDqC59sRev"
      },
      "source": [
        "* ### Import Data\n",
        "\n",
        "The sklearn package provides some built-in real-world data sets to let users experience working on a real-world data analysis applications. The Iris data set is one of them. Please refer to https://scikit-learn.org/stable/datasets/index.html for more information about these built-in data sets."
      ]
    },
    {
      "cell_type": "code",
      "execution_count": 122,
      "metadata": {
        "colab": {
          "base_uri": "https://localhost:8080/"
        },
        "id": "CjGjasrDsRev",
        "outputId": "158a585e-2df0-4a30-dc3e-87d8a8f0bea8"
      },
      "outputs": [
        {
          "output_type": "stream",
          "name": "stdout",
          "text": [
            "Feature names: \n",
            " ['sepal length (cm)', 'sepal width (cm)', 'petal length (cm)', 'petal width (cm)']\n",
            "Target names: \n",
            " ['setosa' 'versicolor' 'virginica']\n",
            "Feature data size: \n",
            " (150, 4)\n",
            "Target data size: \n",
            " (150,)\n",
            "Target values: \n",
            " [0 0 0 0 0 0 0 0 0 0 0 0 0 0 0 0 0 0 0 0 0 0 0 0 0 0 0 0 0 0 0 0 0 0 0 0 0\n",
            " 0 0 0 0 0 0 0 0 0 0 0 0 0 1 1 1 1 1 1 1 1 1 1 1 1 1 1 1 1 1 1 1 1 1 1 1 1\n",
            " 1 1 1 1 1 1 1 1 1 1 1 1 1 1 1 1 1 1 1 1 1 1 1 1 1 1 2 2 2 2 2 2 2 2 2 2 2\n",
            " 2 2 2 2 2 2 2 2 2 2 2 2 2 2 2 2 2 2 2 2 2 2 2 2 2 2 2 2 2 2 2 2 2 2 2 2 2\n",
            " 2 2]\n"
          ]
        }
      ],
      "source": [
        "import numpy as np\n",
        "float_formatter = \"{:.6f}\".format\n",
        "np.set_printoptions(formatter={'float_kind':float_formatter})\n",
        "\n",
        "from sklearn import datasets\n",
        "\n",
        "iris_data = datasets.load_iris()\n",
        "\n",
        "print(\"Feature names: \\n\", iris_data.feature_names)\n",
        "print(\"Target names: \\n\", iris_data.target_names)\n",
        "\n",
        "print(\"Feature data size: \\n\", iris_data.data.shape)\n",
        "print(\"Target data size: \\n\", iris_data.target.shape)\n",
        "print(\"Target values: \\n\", iris_data.target)"
      ]
    },
    {
      "cell_type": "markdown",
      "metadata": {
        "id": "ac1DO1fAsRew"
      },
      "source": [
        "* ### Training and Testing Data\n",
        "\n",
        "We want to build a machine learning model from this data that can predict the species\n",
        "of iris for a new set of measurements. But before we can apply our model to new\n",
        "measurements, we need to know whether it actually works—that is, whether we\n",
        "should trust its predictions.\n",
        "\n",
        "To assess the model’s performance, we show it new data (data that it hasn’t seen\n",
        "before) for which we have labels. This is usually done by splitting the labeled data we\n",
        "have collected (here, our 150 flower measurements) into two parts. One part of the\n",
        "data is used to build our machine learning model, and is called the training data or\n",
        "training set. The rest of the data will be used to assess how well the model works; this\n",
        "is called the test data, test set, or hold-out set.\n",
        "\n",
        "scikit-learn contains a function that shuffles the dataset and splits it for you: the\n",
        "[train_test_split](https://scikit-learn.org/stable/modules/generated/sklearn.model_selection.train_test_split.html#sklearn.model_selection.train_test_split) function. As default, this function extracts 75% of the rows in the data as the\n",
        "training set, together with the corresponding labels for this data. The remaining 25%\n",
        "of the data, together with the remaining labels, is declared as the test set. Deciding\n",
        "how much data you want to put into the training and the test set respectively is somewhat\n",
        "arbitrary, but using a test set containing 25% of the data is a good rule of thumb.\n",
        "\n",
        "In scikit-learn, data is usually denoted with a capital X, while labels are denoted by\n",
        "a lowercase y. This is inspired by the standard formulation f(x)=y in mathematics,\n",
        "where x is the input to a function and y is the output. Following more conventions\n",
        "from mathematics, we use a capital X because the data is a two-dimensional array (a\n",
        "matrix) and a lowercase y because the target is a one-dimensional array (a vector).\n",
        "Let’s call train_test_split on our data and assign the outputs using this nomenclature:"
      ]
    },
    {
      "cell_type": "code",
      "execution_count": 123,
      "metadata": {
        "id": "wc5bRK6IsRew"
      },
      "outputs": [],
      "source": [
        "from sklearn.model_selection import train_test_split"
      ]
    },
    {
      "cell_type": "markdown",
      "metadata": {
        "id": "2HuDW7MPsRex"
      },
      "source": [
        "Before making the split, the train_test_split function shuffles the dataset using a\n",
        "pseudorandom number generator. If we just took the last 25% of the data as a test set,\n",
        "all the data points would have the label 2, as the data points are sorted by the label\n",
        "(see the output for iris['target'] shown earlier). Using a test set containing only\n",
        "one of the three classes would not tell us much about how well our model generalizes. This will result in situation that the training data and testing data have different distributions.\n",
        "So, we shuffle our data to make sure the test data contains data from all classes.\n",
        "\n",
        "To make sure that we will get the same output if we run the same function several\n",
        "times, we provide the pseudorandom number generator with a fixed seed using the\n",
        "random_state parameter. This will make the outcome deterministic, so this line will\n",
        "always have the same outcome. We will always fix the random_state in this way when\n",
        "using randomized procedures.\n",
        "\n",
        "The output of the train_test_split function is X_train, X_test, y_train, and\n",
        "y_test, which are all NumPy arrays. X_train contains 75% of the rows of the dataset,\n",
        "and X_test contains the remaining 25%:"
      ]
    },
    {
      "cell_type": "code",
      "execution_count": 124,
      "metadata": {
        "colab": {
          "base_uri": "https://localhost:8080/"
        },
        "id": "D1PGj_H6sRex",
        "outputId": "84c4f66c-8243-473e-b34a-56859e2a63c8"
      },
      "outputs": [
        {
          "output_type": "stream",
          "name": "stdout",
          "text": [
            "X_train shape: (112, 4)\n",
            "y_train shape: (112,)\n",
            "X_test shape: (38, 4)\n",
            "y_test shape: (38,)\n"
          ]
        }
      ],
      "source": [
        "X_train, X_test, y_train, y_test = train_test_split(iris_data.data, iris_data.target, random_state=142)\n",
        "\n",
        "print(\"X_train shape: {}\".format(X_train.shape))\n",
        "print(\"y_train shape: {}\".format(y_train.shape))\n",
        "print(\"X_test shape: {}\".format(X_test.shape))\n",
        "print(\"y_test shape: {}\".format(y_test.shape))"
      ]
    },
    {
      "cell_type": "markdown",
      "metadata": {
        "id": "Zce46D4isRey"
      },
      "source": [
        "* ### K-Nearest Neighbours Classifier\n",
        "\n",
        "Now we can start building the actual machine learning model. There are many classification\n",
        "algorithms in scikit-learn that we could use. Here we will use a k-nearest\n",
        "neighbors classifier, which is easy to understand. Building this model only consists of\n",
        "storing the training set. To make a prediction for a new data point, the algorithm\n",
        "finds the point in the training set that is closest to the new point. Then it assigns the\n",
        "label of this training point to the new data point.\n",
        "\n",
        "All machine learning models in scikit-learn are implemented in their own classes,\n",
        "which are called Estimator classes. The k-nearest neighbors classification algorithm\n",
        "is implemented in the [KNeighborsClassifier](https://scikit-learn.org/stable/modules/generated/sklearn.neighbors.KNeighborsClassifier.html#sklearn.neighbors.KNeighborsClassifier) class in the neighbors module. Before\n",
        "we can use the model, we need to instantiate the class into an object. This is when we\n",
        "will set any parameters of the model. The most important parameter of KNeighbors\n",
        "Classifier is the number of neighbors (i.e., $K$), which we will set to 1 for our first exploration.\n",
        "\n",
        "**Model Training**: To build the model on the training set, we call the 'fit' method of the knn object,\n",
        "which takes as arguments the NumPy array X_train containing the training data and\n",
        "the NumPy array y_train of the corresponding training labels."
      ]
    },
    {
      "cell_type": "code",
      "execution_count": 125,
      "metadata": {
        "colab": {
          "base_uri": "https://localhost:8080/",
          "height": 74
        },
        "id": "mlIH_SVlsRey",
        "outputId": "f87c03cc-62ea-4ad3-c0d2-a64211da5ab0"
      },
      "outputs": [
        {
          "output_type": "execute_result",
          "data": {
            "text/plain": [
              "KNeighborsClassifier(n_neighbors=1)"
            ],
            "text/html": [
              "<style>#sk-container-id-11 {color: black;background-color: white;}#sk-container-id-11 pre{padding: 0;}#sk-container-id-11 div.sk-toggleable {background-color: white;}#sk-container-id-11 label.sk-toggleable__label {cursor: pointer;display: block;width: 100%;margin-bottom: 0;padding: 0.3em;box-sizing: border-box;text-align: center;}#sk-container-id-11 label.sk-toggleable__label-arrow:before {content: \"▸\";float: left;margin-right: 0.25em;color: #696969;}#sk-container-id-11 label.sk-toggleable__label-arrow:hover:before {color: black;}#sk-container-id-11 div.sk-estimator:hover label.sk-toggleable__label-arrow:before {color: black;}#sk-container-id-11 div.sk-toggleable__content {max-height: 0;max-width: 0;overflow: hidden;text-align: left;background-color: #f0f8ff;}#sk-container-id-11 div.sk-toggleable__content pre {margin: 0.2em;color: black;border-radius: 0.25em;background-color: #f0f8ff;}#sk-container-id-11 input.sk-toggleable__control:checked~div.sk-toggleable__content {max-height: 200px;max-width: 100%;overflow: auto;}#sk-container-id-11 input.sk-toggleable__control:checked~label.sk-toggleable__label-arrow:before {content: \"▾\";}#sk-container-id-11 div.sk-estimator input.sk-toggleable__control:checked~label.sk-toggleable__label {background-color: #d4ebff;}#sk-container-id-11 div.sk-label input.sk-toggleable__control:checked~label.sk-toggleable__label {background-color: #d4ebff;}#sk-container-id-11 input.sk-hidden--visually {border: 0;clip: rect(1px 1px 1px 1px);clip: rect(1px, 1px, 1px, 1px);height: 1px;margin: -1px;overflow: hidden;padding: 0;position: absolute;width: 1px;}#sk-container-id-11 div.sk-estimator {font-family: monospace;background-color: #f0f8ff;border: 1px dotted black;border-radius: 0.25em;box-sizing: border-box;margin-bottom: 0.5em;}#sk-container-id-11 div.sk-estimator:hover {background-color: #d4ebff;}#sk-container-id-11 div.sk-parallel-item::after {content: \"\";width: 100%;border-bottom: 1px solid gray;flex-grow: 1;}#sk-container-id-11 div.sk-label:hover label.sk-toggleable__label {background-color: #d4ebff;}#sk-container-id-11 div.sk-serial::before {content: \"\";position: absolute;border-left: 1px solid gray;box-sizing: border-box;top: 0;bottom: 0;left: 50%;z-index: 0;}#sk-container-id-11 div.sk-serial {display: flex;flex-direction: column;align-items: center;background-color: white;padding-right: 0.2em;padding-left: 0.2em;position: relative;}#sk-container-id-11 div.sk-item {position: relative;z-index: 1;}#sk-container-id-11 div.sk-parallel {display: flex;align-items: stretch;justify-content: center;background-color: white;position: relative;}#sk-container-id-11 div.sk-item::before, #sk-container-id-11 div.sk-parallel-item::before {content: \"\";position: absolute;border-left: 1px solid gray;box-sizing: border-box;top: 0;bottom: 0;left: 50%;z-index: -1;}#sk-container-id-11 div.sk-parallel-item {display: flex;flex-direction: column;z-index: 1;position: relative;background-color: white;}#sk-container-id-11 div.sk-parallel-item:first-child::after {align-self: flex-end;width: 50%;}#sk-container-id-11 div.sk-parallel-item:last-child::after {align-self: flex-start;width: 50%;}#sk-container-id-11 div.sk-parallel-item:only-child::after {width: 0;}#sk-container-id-11 div.sk-dashed-wrapped {border: 1px dashed gray;margin: 0 0.4em 0.5em 0.4em;box-sizing: border-box;padding-bottom: 0.4em;background-color: white;}#sk-container-id-11 div.sk-label label {font-family: monospace;font-weight: bold;display: inline-block;line-height: 1.2em;}#sk-container-id-11 div.sk-label-container {text-align: center;}#sk-container-id-11 div.sk-container {/* jupyter's `normalize.less` sets `[hidden] { display: none; }` but bootstrap.min.css set `[hidden] { display: none !important; }` so we also need the `!important` here to be able to override the default hidden behavior on the sphinx rendered scikit-learn.org. See: https://github.com/scikit-learn/scikit-learn/issues/21755 */display: inline-block !important;position: relative;}#sk-container-id-11 div.sk-text-repr-fallback {display: none;}</style><div id=\"sk-container-id-11\" class=\"sk-top-container\"><div class=\"sk-text-repr-fallback\"><pre>KNeighborsClassifier(n_neighbors=1)</pre><b>In a Jupyter environment, please rerun this cell to show the HTML representation or trust the notebook. <br />On GitHub, the HTML representation is unable to render, please try loading this page with nbviewer.org.</b></div><div class=\"sk-container\" hidden><div class=\"sk-item\"><div class=\"sk-estimator sk-toggleable\"><input class=\"sk-toggleable__control sk-hidden--visually\" id=\"sk-estimator-id-11\" type=\"checkbox\" checked><label for=\"sk-estimator-id-11\" class=\"sk-toggleable__label sk-toggleable__label-arrow\">KNeighborsClassifier</label><div class=\"sk-toggleable__content\"><pre>KNeighborsClassifier(n_neighbors=1)</pre></div></div></div></div></div>"
            ]
          },
          "metadata": {},
          "execution_count": 125
        }
      ],
      "source": [
        "# Import the KNN classifier\n",
        "from sklearn.neighbors import KNeighborsClassifier\n",
        "\n",
        "# Build a KNN classifier model\n",
        "clf_knn = KNeighborsClassifier(n_neighbors=1)\n",
        "\n",
        "# Train the model with the training data\n",
        "clf_knn.fit(X_train, y_train)"
      ]
    },
    {
      "cell_type": "markdown",
      "metadata": {
        "id": "W_8hj-W1sRez"
      },
      "source": [
        "**Prediction**: We can now make predictions using this model on new data for which we might not\n",
        "know the correct labels. Imagine we found an iris in the wild with a sepal length of\n",
        "5 cm, a sepal width of 2.9 cm, a petal length of 1 cm, and a petal width of 0.2 cm.\n",
        "What species of iris would this be? We can put this data into a NumPy array, again by\n",
        "calculating the shape—that is, the number of samples (1) multiplied by the number of\n",
        "features (4):"
      ]
    },
    {
      "cell_type": "code",
      "execution_count": 126,
      "metadata": {
        "colab": {
          "base_uri": "https://localhost:8080/"
        },
        "id": "g3smnrrUsRez",
        "outputId": "fe96a9f8-9c10-44bc-9b3f-d8f708dc11bb"
      },
      "outputs": [
        {
          "output_type": "stream",
          "name": "stdout",
          "text": [
            "X_new.shape: (1, 4)\n",
            "The predicted class is: \n",
            " [0]\n"
          ]
        }
      ],
      "source": [
        "# Produce the features of a testing data instance\n",
        "X_new = np.array([[5, 2.9, 1, 0.2]])\n",
        "print(\"X_new.shape: {}\".format(X_new.shape))\n",
        "\n",
        "# Predict the result label of X_new:\n",
        "y_new_pred = clf_knn.predict(X_new)\n",
        "print(\"The predicted class is: \\n\", y_new_pred)"
      ]
    },
    {
      "cell_type": "markdown",
      "metadata": {
        "id": "CRpMMMo9sRe0"
      },
      "source": [
        "Our model predicts that this new iris belongs to the class 0, meaning its species is setosa. But how do we know whether we can trust our model? We don’t know the correct species of this sample, which is the whole point of building the model!"
      ]
    },
    {
      "cell_type": "markdown",
      "metadata": {
        "id": "n5OydLLEsRe0"
      },
      "source": [
        "**Evaluating Model**: This is where the test set that we created earlier comes in. This data was not used to build the model, but we do know what the correct species is for each iris in the test set. So, we can use the trained model to predict these data instances and calculate the accuracy to evaluate how good the model is."
      ]
    },
    {
      "cell_type": "markdown",
      "metadata": {
        "id": "yQatZ8d7sRe0"
      },
      "source": [
        "## Task 1\n",
        "Write code to calculate the accuracy score"
      ]
    },
    {
      "cell_type": "code",
      "execution_count": 127,
      "metadata": {
        "colab": {
          "base_uri": "https://localhost:8080/"
        },
        "id": "vnoMcEwUsRe0",
        "outputId": "ff0d00a9-3dd7-4c09-ac9d-70771475d1ba"
      },
      "outputs": [
        {
          "output_type": "stream",
          "name": "stdout",
          "text": [
            "Accuracy is: 0.8947\n",
            "\n"
          ]
        }
      ],
      "source": [
        "# [Your code here ...]\n",
        "from sklearn.metrics import accuracy_score\n",
        "y_pred = clf_knn.predict(X_test)\n",
        "accuracy = accuracy_score (y_test, y_pred)\n",
        "print (\"Accuracy is: %.4f\\n\"% accuracy)"
      ]
    },
    {
      "cell_type": "markdown",
      "metadata": {
        "id": "4yCLbzX-sRe1"
      },
      "source": [
        "* ### Parameter Tuning with Cross Validation (CV)\n",
        "\n",
        "In this section, we’ll explore a CV method that can be used to tune the hyperparameter $K$ using the above training and test data.\n",
        "\n",
        "Scikit-learn comes in handy with its [cross_val_score](https://scikit-learn.org/stable/modules/generated/sklearn.model_selection.cross_val_score.html#sklearn.model_selection.cross_val_score) method. We specifiy that we are performing 10 folds with the cv=KFold(n_splits=10, shuffle=True) parameter and that our scoring metric should be accuracy since we are in a classification setting. In each iteration, the training data take 90% of the total data while testing data takes 10%. The average on the accuracies reported from each iteration will make the testing accuracy more robust than just a single split of the data.\n",
        "\n",
        "**Manual tuning with cross validation**: Plot the misclassification error versus $K$. You need to figure out the possible values of $K$. If the number of possible values is too big, you can take some values with a certain step, e.g., $K$ = 1, 5, 10, ... with a step of 5."
      ]
    },
    {
      "cell_type": "code",
      "execution_count": 128,
      "metadata": {
        "scrolled": true,
        "colab": {
          "base_uri": "https://localhost:8080/",
          "height": 449
        },
        "id": "Vj8hxJI1sRe1",
        "outputId": "0cef19c8-b031-4343-a8bb-0a78e58d7076"
      },
      "outputs": [
        {
          "output_type": "display_data",
          "data": {
            "text/plain": [
              "<Figure size 640x480 with 1 Axes>"
            ],
            "image/png": "[encoded data removed]"
          },
          "metadata": {}
        }
      ],
      "source": [
        "from sklearn.model_selection import cross_val_score, KFold\n",
        "import matplotlib.pyplot as plt\n",
        "\n",
        "cv_scores = []\n",
        "cv_scores_std = []\n",
        "k_range = range(1, 135, 5)\n",
        "for i in k_range:\n",
        "    clf = KNeighborsClassifier(n_neighbors = i)\n",
        "    scores = cross_val_score(clf, iris_data.data, iris_data.target, scoring='accuracy', cv=KFold(n_splits=10, shuffle=True))\n",
        "    cv_scores.append(scores.mean())\n",
        "    cv_scores_std.append(scores.std())\n",
        "\n",
        "# Plot the relationship\n",
        "plt.errorbar(k_range, cv_scores, yerr=cv_scores_std, marker='x', label='Accuracy')\n",
        "plt.ylim([0.1, 1.1])\n",
        "plt.xlabel('$K$')\n",
        "plt.ylabel('Accuracy')\n",
        "plt.legend(loc='best')\n",
        "plt.show()"
      ]
    },
    {
      "cell_type": "markdown",
      "metadata": {
        "id": "70x6wmpusRe2"
      },
      "source": [
        "It can be seen that the accuracy first goes up when $K$ increases. It peeks around 15. Then, it keeps going down. Particularly, the performance (measured by the score mean) and its robustness/stableness (measured by the score std) drop substantially around K=85. One possible reason is that when K is bigger than 85, the model suffers from the underfitting issue severely."
      ]
    },
    {
      "cell_type": "markdown",
      "metadata": {
        "id": "3mwR4T4csRe2"
      },
      "source": [
        "**Automated Parameter Tuning**: Use the [GridSearchCV](https://scikit-learn.org/stable/modules/generated/sklearn.model_selection.GridSearchCV.html#sklearn.model_selection.GridSearchCV) method to accomplish automatic model selection."
      ]
    },
    {
      "cell_type": "markdown",
      "metadata": {
        "id": "qEA2GcUzsRe2"
      },
      "source": [
        "## Task 2\n",
        "Check against the figure plotted above to see if the selected hyperparameter $K$ can lead to the highest misclassification accuracy."
      ]
    },
    {
      "cell_type": "code",
      "execution_count": 129,
      "metadata": {
        "colab": {
          "base_uri": "https://localhost:8080/"
        },
        "id": "_-Uosz1xsRe3",
        "outputId": "e76b4933-0fce-4c6f-cf56-9e9b6425d854"
      },
      "outputs": [
        {
          "output_type": "stream",
          "name": "stdout",
          "text": [
            "Best K value: 11\n",
            "The accuracy: 0.9667\n",
            "\n"
          ]
        }
      ],
      "source": [
        "# [Your code here ...]\n",
        "from sklearn.model_selection import GridSearchCV\n",
        "\n",
        "parameter_grid = {'n_neighbors': range(1, 135, 5)}\n",
        "knn_clf = KNeighborsClassifier()\n",
        "\n",
        "gs_knn = GridSearchCV(knn_clf, parameter_grid, scoring='accuracy', cv=KFold(n_splits=10, shuffle=True))\n",
        "gs_knn.fit(iris_data.data, iris_data.target)\n",
        "print('Best K value:', gs_knn.best_params_['n_neighbors' ])\n",
        "print('The accuracy: %.4f\\n' % gs_knn.best_score_)\n"
      ]
    },
    {
      "cell_type": "markdown",
      "metadata": {
        "id": "nfwfVXF6sRe3"
      },
      "source": [
        "## Task 3\n",
        "It can be seen that GridSearchCV can help us to the automated hyperparameter tuning. Actually, it also store the intermediate results during the search procrss. The attribute 'cv_results_' of GridSearchCV contains much such informaiton. For example, this attribute contains the 'mean_test_score' and 'std_test_score' for the cross validation. Make use of this information to produce a plot similar to what we did in the manual way. Please check if the two plots comply with each other."
      ]
    },
    {
      "cell_type": "code",
      "execution_count": 130,
      "metadata": {
        "colab": {
          "base_uri": "https://localhost:8080/",
          "height": 618
        },
        "id": "BnWnK3e_sRe4",
        "outputId": "223b80f7-0b6d-4b95-a52f-0568f20c4d89"
      },
      "outputs": [
        {
          "output_type": "execute_result",
          "data": {
            "text/plain": [
              "<function matplotlib.pyplot.show(close=None, block=None)>"
            ],
            "text/html": [
              "<div style=\"max-width:800px; border: 1px solid var(--colab-border-color);\"><style>\n",
              "      pre.function-repr-contents {\n",
              "        overflow-x: auto;\n",
              "        padding: 8px 12px;\n",
              "        max-height: 500px;\n",
              "      }\n",
              "\n",
              "      pre.function-repr-contents.function-repr-contents-collapsed {\n",
              "        cursor: pointer;\n",
              "        max-height: 100px;\n",
              "      }\n",
              "    </style>\n",
              "    <pre style=\"white-space: initial; background:\n",
              "         var(--colab-secondary-surface-color); padding: 8px 12px;\n",
              "         border-bottom: 1px solid var(--colab-border-color);\"><b>matplotlib.pyplot.show</b><br/>def show(*args, **kwargs)</pre><pre class=\"function-repr-contents function-repr-contents-collapsed\" style=\"\"><a class=\"filepath\" style=\"display:none\" href=\"#\">/usr/local/lib/python3.10/dist-packages/matplotlib/pyplot.py</a>Display all open figures.\n",
              "\n",
              "Parameters\n",
              "----------\n",
              "block : bool, optional\n",
              "    Whether to wait for all figures to be closed before returning.\n",
              "\n",
              "    If `True` block and run the GUI main loop until all figure windows\n",
              "    are closed.\n",
              "\n",
              "    If `False` ensure that all figure windows are displayed and return\n",
              "    immediately.  In this case, you are responsible for ensuring\n",
              "    that the event loop is running to have responsive figures.\n",
              "\n",
              "    Defaults to True in non-interactive mode and to False in interactive\n",
              "    mode (see `.pyplot.isinteractive`).\n",
              "\n",
              "See Also\n",
              "--------\n",
              "ion : Enable interactive mode, which shows / updates the figure after\n",
              "      every plotting command, so that calling ``show()`` is not necessary.\n",
              "ioff : Disable interactive mode.\n",
              "savefig : Save the figure to an image file instead of showing it on screen.\n",
              "\n",
              "Notes\n",
              "-----\n",
              "**Saving figures to file and showing a window at the same time**\n",
              "\n",
              "If you want an image file as well as a user interface window, use\n",
              "`.pyplot.savefig` before `.pyplot.show`. At the end of (a blocking)\n",
              "``show()`` the figure is closed and thus unregistered from pyplot. Calling\n",
              "`.pyplot.savefig` afterwards would save a new and thus empty figure. This\n",
              "limitation of command order does not apply if the show is non-blocking or\n",
              "if you keep a reference to the figure and use `.Figure.savefig`.\n",
              "\n",
              "**Auto-show in jupyter notebooks**\n",
              "\n",
              "The jupyter backends (activated via ``%matplotlib inline``,\n",
              "``%matplotlib notebook``, or ``%matplotlib widget``), call ``show()`` at\n",
              "the end of every cell by default. Thus, you usually don&#x27;t have to call it\n",
              "explicitly there.</pre>\n",
              "      <script>\n",
              "      if (google.colab.kernel.accessAllowed && google.colab.files && google.colab.files.view) {\n",
              "        for (const element of document.querySelectorAll('.filepath')) {\n",
              "          element.style.display = 'block'\n",
              "          element.onclick = (event) => {\n",
              "            event.preventDefault();\n",
              "            event.stopPropagation();\n",
              "            google.colab.files.view(element.textContent, 401);\n",
              "          };\n",
              "        }\n",
              "      }\n",
              "      for (const element of document.querySelectorAll('.function-repr-contents')) {\n",
              "        element.onclick = (event) => {\n",
              "          event.preventDefault();\n",
              "          event.stopPropagation();\n",
              "          element.classList.toggle('function-repr-contents-collapsed');\n",
              "        };\n",
              "      }\n",
              "      </script>\n",
              "      </div>"
            ]
          },
          "metadata": {},
          "execution_count": 130
        },
        {
          "output_type": "display_data",
          "data": {
            "text/plain": [
              "<Figure size 640x480 with 1 Axes>"
            ],
            "image/png": "[encoded data removed]"
          },
          "metadata": {}
        }
      ],
      "source": [
        "# [Your code here ...]\n",
        "cv_scores_means = gs_knn.cv_results_[\"mean_test_score\"]\n",
        "cv_scores_stds = gs_knn.cv_results_[\"std_test_score\"]\n",
        "\n",
        "plt.errorbar(k_range, cv_scores_means, yerr=cv_scores_stds, marker='o', label='Accuracy')\n",
        "plt.ylim ([0.1, 1.1])\n",
        "plt.xlabel('$K$')\n",
        "plt.ylabel ('Accuracy')\n",
        "plt.legend(loc = 'best')\n",
        "plt.show"
      ]
    },
    {
      "cell_type": "markdown",
      "metadata": {
        "id": "RsPhtxQesRe4"
      },
      "source": [
        "### 2. Naive Bayes Classifier\n",
        "Naive Bayes methods are a set of supervised learning algorithms based on applying Bayes' theorem with the \"naive\" assumption of conditional independence between every pair of features given the value of the class variable. Bayes'theorem states the following relationship, given class variable $y$ and dependent feature vector $x_1$ through $x_n$,:\n",
        "\n",
        "$$P(y \\mid x_1, \\dots, x_n) = \\frac{P(y) P(x_1, \\dots x_n \\mid y)}\n",
        "                                 {P(x_1, \\dots, x_n)}$$\n",
        "\n",
        "Using the naive conditional independence assumption, we have\n",
        "\n",
        "$$\\begin{align}\\begin{aligned}P(y \\mid x_1, \\dots, x_n) \\propto P(y) \\prod_{i=1}^{n} P(x_i \\mid y)\\\\\\Downarrow\\\\\\hat{y} = \\arg\\max_y P(y) \\prod_{i=1}^{n} P(x_i \\mid y),\\end{aligned}\\end{align}$$\n",
        "\n",
        "Then, we can use Maximum A Posteriori (MAP) estimation to estimate $P(y)$ and $P(x_i \\mid y)$; the former is then the relative frequency of class $y$ in the training set.\n",
        "\n",
        "*References*:\n",
        "H. Zhang (2004). The optimality of Naive Bayes. Proc. FLAIRS."
      ]
    },
    {
      "cell_type": "markdown",
      "metadata": {
        "id": "cH1-QUUpsRe5"
      },
      "source": [
        "* ### Gaussian Naive Bayes\n",
        "\n",
        "[GaussianNB](https://scikit-learn.org/stable/modules/generated/sklearn.naive_bayes.GaussianNB.html#sklearn.naive_bayes.GaussianNB) implements the Gaussian Naive Bayes algorithm for classification on the data sets where features are continuous.   \n",
        "The likelihood of the features is assumed to be Gaussian:\n",
        "\n",
        "$$P(x_i \\mid y) = \\frac{1}{\\sqrt{2\\pi\\sigma^2_y}} \\exp\\left(-\\frac{(x_i - \\mu_y)^2}{2\\sigma^2_y}\\right)$$\n",
        "\n",
        "The parameters $\\sigma_y$ and $\\mu_y$  are estimated using maximum likelihood."
      ]
    },
    {
      "cell_type": "markdown",
      "metadata": {
        "id": "B-U3LzX8sRe5"
      },
      "source": [
        "**Demo**: In this demo, we show how to build a Gaussian Naive Bayes classifier."
      ]
    },
    {
      "cell_type": "code",
      "execution_count": 131,
      "metadata": {
        "id": "AX-kvsAYsRe6"
      },
      "outputs": [],
      "source": [
        "import pandas as pd\n",
        "from sklearn.datasets import make_classification\n",
        "from sklearn.naive_bayes import GaussianNB\n",
        "import warnings\n",
        "warnings.filterwarnings(\"ignore\")"
      ]
    },
    {
      "cell_type": "code",
      "execution_count": 132,
      "metadata": {
        "colab": {
          "base_uri": "https://localhost:8080/",
          "height": 430
        },
        "id": "QX_6mcBdsRe6",
        "outputId": "e2b7b6b0-7106-4134-c466-7d88a59de32b"
      },
      "outputs": [
        {
          "output_type": "display_data",
          "data": {
            "text/plain": [
              "<Figure size 640x480 with 1 Axes>"
            ],
            "image/png": "[encoded data removed]"
          },
          "metadata": {}
        }
      ],
      "source": [
        "# Generate a synthetica 2D dataset\n",
        "X, y = make_classification(n_samples=50, n_features=2, n_informative=2,\n",
        "                           n_redundant=0, n_classes=3, n_clusters_per_class=1,\n",
        "                           weights=None, flip_y=0.01, class_sep=0.5, hypercube=True,\n",
        "                           shift=0.0, scale=1.0, shuffle=True, random_state=42)\n",
        "\n",
        "# Data split\n",
        "X_train, X_test, y_train, y_test = train_test_split(X, y, test_size=.2, random_state=42)\n",
        "\n",
        "# Visualize the generated data\n",
        "colors = ['blue', 'yellow', 'green']\n",
        "for i, color in enumerate(colors):\n",
        "    plt.scatter(X_train[y_train == i, 0], X_train[y_train == i, 1], c=color)\n",
        "plt.scatter(X_test[:, 0], X_test[:,1], c='red', marker='x', label='Testing Data')\n",
        "plt.legend(loc='best')\n",
        "plt.show()"
      ]
    },
    {
      "cell_type": "code",
      "execution_count": 133,
      "metadata": {
        "colab": {
          "base_uri": "https://localhost:8080/"
        },
        "id": "OEAIstgrsRe7",
        "outputId": "a9b9096b-03ed-4a6d-fa60-1b9ca1367b8b"
      },
      "outputs": [
        {
          "output_type": "stream",
          "name": "stdout",
          "text": [
            "Testing accuracy is: 0.8000\n",
            "\n"
          ]
        }
      ],
      "source": [
        "# Create and training a Gaussian Naive Bayes classifier model\n",
        "clf = GaussianNB()\n",
        "clf.fit(X_train, y_train)\n",
        "\n",
        "# Use the model to predict testing data\n",
        "y_pred = clf.predict(X_test)\n",
        "accuracy = accuracy_score(y_pred, y_test)\n",
        "print('Testing accuracy is: %.4f\\n' % accuracy)"
      ]
    },
    {
      "cell_type": "code",
      "execution_count": 134,
      "metadata": {
        "colab": {
          "base_uri": "https://localhost:8080/"
        },
        "id": "SB0mG2gzsRe7",
        "outputId": "364cc0da-9fdd-4fd8-a1c3-e72834448abe"
      },
      "outputs": [
        {
          "output_type": "stream",
          "name": "stdout",
          "text": [
            "Estimated probability of classess: \n",
            " [0.325000 0.375000 0.300000]\n",
            "Estimated mean for each Gaussian distribution: \n",
            " [[0.609039 -0.561157]\n",
            " [0.396703 0.513019]\n",
            " [-0.401613 -0.836859]]\n",
            "Estimated variance for each Gaussian distribution: \n",
            " [[0.232339 1.048391]\n",
            " [0.935212 0.066276]\n",
            " [0.330985 0.675591]]\n"
          ]
        }
      ],
      "source": [
        "# Explore the learned probability (model parameters)\n",
        "print('Estimated probability of classess: \\n', clf.class_prior_)\n",
        "print('Estimated mean for each Gaussian distribution: \\n', clf.theta_)\n",
        "print('Estimated variance for each Gaussian distribution: \\n', clf.var_)"
      ]
    },
    {
      "cell_type": "markdown",
      "metadata": {
        "id": "IRNLqoO6sRe8"
      },
      "source": [
        "For example, for Class 0 and the first feature, we can have the following Gaussian disribution\n",
        "$$P(x_0 \\mid Class=0) = \\frac{1}{\\sqrt{2\\pi\\cdot0.2323}} \\exp\\left(-\\frac{(x_0 - 0.6090)^2}{2\\cdot0.2323}\\right)$$"
      ]
    },
    {
      "cell_type": "code",
      "execution_count": 135,
      "metadata": {
        "colab": {
          "base_uri": "https://localhost:8080/"
        },
        "id": "bmdDLqpVsRe8",
        "outputId": "9e010636-e55d-4a05-f876-d033008584b5"
      },
      "outputs": [
        {
          "output_type": "stream",
          "name": "stdout",
          "text": [
            "Gaussian Naive Bayes accuracy range: [0.4000, 1.0000]; mean: 0.7000; std: 0.1612\n",
            "\n"
          ]
        }
      ],
      "source": [
        "# Use 10-fold cross validation to show a more robust prediction accuracy\n",
        "clf = GaussianNB()\n",
        "scores = cross_val_score(clf, X, y, scoring='accuracy', cv=10)\n",
        "print('Gaussian Naive Bayes accuracy range: [%.4f, %.4f]; mean: %.4f; std: %.4f\\n' % (scores.min(), scores.max(), scores.mean(), scores.std()))"
      ]
    },
    {
      "cell_type": "markdown",
      "metadata": {
        "id": "NC5FYzi7sRe8"
      },
      "source": [
        "## Task 4\n",
        "Given the training data generated as follows:"
      ]
    },
    {
      "cell_type": "code",
      "execution_count": 137,
      "metadata": {
        "colab": {
          "base_uri": "https://localhost:8080/"
        },
        "id": "RUW_TwA0sRe9",
        "outputId": "ba86dcae-77f6-4afc-f138-f608421bd614"
      },
      "outputs": [
        {
          "output_type": "stream",
          "name": "stdout",
          "text": [
            "Means estaimated manually: \n",
            " [[-2.     -1.3333]\n",
            " [ 2.      1.3333]]\n",
            "Variances estaimated manually: \n",
            " [[0.6667 0.2222]\n",
            " [0.6667 0.2222]]\n"
          ]
        }
      ],
      "source": [
        "X = np.array([[-1, -1], [-2, -1], [-3, -2], [1, 1], [2, 1], [3, 2]])\n",
        "y = np.array([1, 1, 1, 2, 2, 2])\n",
        "\n",
        "# Firstly, let's do the parameter estimation manually without using the model\n",
        "X_0_C_1=X[y==1][:,0]\n",
        "X_1_C_1=X[y==1][:,1]\n",
        "X_0_C_2=X[y==2][:,0]\n",
        "X_1_C_2=X[y==2][:,1]\n",
        "\n",
        "manual_means = np.array([[X_0_C_1.mean(), X_1_C_1.mean()], [X_0_C_2.mean(), X_1_C_2.mean()]])\n",
        "np.set_printoptions(precision=4)\n",
        "print('Means estaimated manually: \\n', manual_means)\n",
        "manual_vars = np.array([[X_0_C_1.var(), X_1_C_1.var()], [X_0_C_2.var(), X_1_C_2.var()]])\n",
        "print('Variances estaimated manually: \\n', manual_vars)"
      ]
    },
    {
      "cell_type": "markdown",
      "metadata": {
        "id": "1Z2om0eOsRe9"
      },
      "source": [
        " Train a GaussianNB model and print out the learned model parameters (parameters of probability distributions). And check if the learned parameters comply with the manually estimated ones as shown above. Predict the label of a data [-0.8,-1]."
      ]
    },
    {
      "cell_type": "code",
      "execution_count": 138,
      "metadata": {
        "colab": {
          "base_uri": "https://localhost:8080/"
        },
        "id": "8wJT19VvsRe9",
        "outputId": "e952c041-4f4f-416e-cd63-417c643a4d42"
      },
      "outputs": [
        {
          "output_type": "stream",
          "name": "stdout",
          "text": [
            "Estimated means: \n",
            " [[-2.     -1.3333]\n",
            " [ 2.      1.3333]]\n",
            "Estimated Variance: \n",
            " [[0.6667 0.2222]\n",
            " [0.6667 0.2222]]\n",
            "class Label is: 1.000000\n",
            "\n"
          ]
        }
      ],
      "source": [
        "# [Your code here ...]\n",
        "clf = GaussianNB()\n",
        "clf.fit(X,y)\n",
        "\n",
        "print(\"Estimated means: \\n\", clf.theta_)\n",
        "print(\"Estimated Variance: \\n\", clf.var_)\n",
        "\n",
        "#prediction\n",
        "X_new = [[-0.8, -1]]\n",
        "y_pred = clf.predict(X_new)\n",
        "print(\"class Label is: %4f\\n\" % y_pred[0])\n"
      ]
    },
    {
      "cell_type": "markdown",
      "metadata": {
        "id": "_z6rkIHDsRe-"
      },
      "source": [
        "* ### Multinomial Naive Bayes\n",
        "The [MultinomialNB](https://scikit-learn.org/stable/modules/generated/sklearn.naive_bayes.MultinomialNB.html#sklearn.naive_bayes.MultinomialNB) classification model is suitable for classification with discrete features. To let the model handle to categorical data, we often need to transform the categorical values to numberic ones, through [encoding](https://scikit-learn.org/stable/modules/preprocessing.html#encoding-categorical-features) methods."
      ]
    },
    {
      "cell_type": "code",
      "execution_count": 139,
      "metadata": {
        "colab": {
          "base_uri": "https://localhost:8080/"
        },
        "id": "aV-TUIQjsRe-",
        "outputId": "074c9c4e-442f-426f-f785-147971be01a7"
      },
      "outputs": [
        {
          "output_type": "stream",
          "name": "stdout",
          "text": [
            "    Outlook Humidity    Wind Play\n",
            "0     Sunny     High    Weak   No\n",
            "1     Sunny     High  Strong   No\n",
            "2  Overcast     High    Weak  Yes\n",
            "3      Rain     High    Weak  Yes\n",
            "4      Rain   Normal    Weak  Yes\n",
            "\n",
            "Data shape:  (14, 4)\n"
          ]
        }
      ],
      "source": [
        "# Load the weather data\n",
        "weather_data = pd.read_csv('/content/Weather.csv')\n",
        "print(weather_data.head())\n",
        "print('\\nData shape: ', weather_data.shape)"
      ]
    },
    {
      "cell_type": "code",
      "execution_count": 140,
      "metadata": {
        "id": "WcZ3NnY3sRfA"
      },
      "outputs": [],
      "source": [
        "# Data pre-processing and preparation\n",
        "# Firstly, we need to encode categorical values\n",
        "from sklearn.preprocessing import OrdinalEncoder\n",
        "enc = OrdinalEncoder()\n",
        "coded_data = enc.fit_transform(weather_data)\n",
        "\n",
        "X = coded_data[:, 0:-1]\n",
        "y = coded_data[:, -1]\n",
        "\n",
        "X_train, X_test, y_train, y_test = train_test_split(X, y, random_state=42)"
      ]
    },
    {
      "cell_type": "code",
      "execution_count": 141,
      "metadata": {
        "colab": {
          "base_uri": "https://localhost:8080/",
          "height": 74
        },
        "id": "bEMlBH7lsRfC",
        "outputId": "98dc7c98-4730-46cc-fa99-da44b5b5ea82"
      },
      "outputs": [
        {
          "output_type": "execute_result",
          "data": {
            "text/plain": [
              "MultinomialNB()"
            ],
            "text/html": [
              "<style>#sk-container-id-12 {color: black;background-color: white;}#sk-container-id-12 pre{padding: 0;}#sk-container-id-12 div.sk-toggleable {background-color: white;}#sk-container-id-12 label.sk-toggleable__label {cursor: pointer;display: block;width: 100%;margin-bottom: 0;padding: 0.3em;box-sizing: border-box;text-align: center;}#sk-container-id-12 label.sk-toggleable__label-arrow:before {content: \"▸\";float: left;margin-right: 0.25em;color: #696969;}#sk-container-id-12 label.sk-toggleable__label-arrow:hover:before {color: black;}#sk-container-id-12 div.sk-estimator:hover label.sk-toggleable__label-arrow:before {color: black;}#sk-container-id-12 div.sk-toggleable__content {max-height: 0;max-width: 0;overflow: hidden;text-align: left;background-color: #f0f8ff;}#sk-container-id-12 div.sk-toggleable__content pre {margin: 0.2em;color: black;border-radius: 0.25em;background-color: #f0f8ff;}#sk-container-id-12 input.sk-toggleable__control:checked~div.sk-toggleable__content {max-height: 200px;max-width: 100%;overflow: auto;}#sk-container-id-12 input.sk-toggleable__control:checked~label.sk-toggleable__label-arrow:before {content: \"▾\";}#sk-container-id-12 div.sk-estimator input.sk-toggleable__control:checked~label.sk-toggleable__label {background-color: #d4ebff;}#sk-container-id-12 div.sk-label input.sk-toggleable__control:checked~label.sk-toggleable__label {background-color: #d4ebff;}#sk-container-id-12 input.sk-hidden--visually {border: 0;clip: rect(1px 1px 1px 1px);clip: rect(1px, 1px, 1px, 1px);height: 1px;margin: -1px;overflow: hidden;padding: 0;position: absolute;width: 1px;}#sk-container-id-12 div.sk-estimator {font-family: monospace;background-color: #f0f8ff;border: 1px dotted black;border-radius: 0.25em;box-sizing: border-box;margin-bottom: 0.5em;}#sk-container-id-12 div.sk-estimator:hover {background-color: #d4ebff;}#sk-container-id-12 div.sk-parallel-item::after {content: \"\";width: 100%;border-bottom: 1px solid gray;flex-grow: 1;}#sk-container-id-12 div.sk-label:hover label.sk-toggleable__label {background-color: #d4ebff;}#sk-container-id-12 div.sk-serial::before {content: \"\";position: absolute;border-left: 1px solid gray;box-sizing: border-box;top: 0;bottom: 0;left: 50%;z-index: 0;}#sk-container-id-12 div.sk-serial {display: flex;flex-direction: column;align-items: center;background-color: white;padding-right: 0.2em;padding-left: 0.2em;position: relative;}#sk-container-id-12 div.sk-item {position: relative;z-index: 1;}#sk-container-id-12 div.sk-parallel {display: flex;align-items: stretch;justify-content: center;background-color: white;position: relative;}#sk-container-id-12 div.sk-item::before, #sk-container-id-12 div.sk-parallel-item::before {content: \"\";position: absolute;border-left: 1px solid gray;box-sizing: border-box;top: 0;bottom: 0;left: 50%;z-index: -1;}#sk-container-id-12 div.sk-parallel-item {display: flex;flex-direction: column;z-index: 1;position: relative;background-color: white;}#sk-container-id-12 div.sk-parallel-item:first-child::after {align-self: flex-end;width: 50%;}#sk-container-id-12 div.sk-parallel-item:last-child::after {align-self: flex-start;width: 50%;}#sk-container-id-12 div.sk-parallel-item:only-child::after {width: 0;}#sk-container-id-12 div.sk-dashed-wrapped {border: 1px dashed gray;margin: 0 0.4em 0.5em 0.4em;box-sizing: border-box;padding-bottom: 0.4em;background-color: white;}#sk-container-id-12 div.sk-label label {font-family: monospace;font-weight: bold;display: inline-block;line-height: 1.2em;}#sk-container-id-12 div.sk-label-container {text-align: center;}#sk-container-id-12 div.sk-container {/* jupyter's `normalize.less` sets `[hidden] { display: none; }` but bootstrap.min.css set `[hidden] { display: none !important; }` so we also need the `!important` here to be able to override the default hidden behavior on the sphinx rendered scikit-learn.org. See: https://github.com/scikit-learn/scikit-learn/issues/21755 */display: inline-block !important;position: relative;}#sk-container-id-12 div.sk-text-repr-fallback {display: none;}</style><div id=\"sk-container-id-12\" class=\"sk-top-container\"><div class=\"sk-text-repr-fallback\"><pre>MultinomialNB()</pre><b>In a Jupyter environment, please rerun this cell to show the HTML representation or trust the notebook. <br />On GitHub, the HTML representation is unable to render, please try loading this page with nbviewer.org.</b></div><div class=\"sk-container\" hidden><div class=\"sk-item\"><div class=\"sk-estimator sk-toggleable\"><input class=\"sk-toggleable__control sk-hidden--visually\" id=\"sk-estimator-id-12\" type=\"checkbox\" checked><label for=\"sk-estimator-id-12\" class=\"sk-toggleable__label sk-toggleable__label-arrow\">MultinomialNB</label><div class=\"sk-toggleable__content\"><pre>MultinomialNB()</pre></div></div></div></div></div>"
            ]
          },
          "metadata": {},
          "execution_count": 141
        }
      ],
      "source": [
        "# Creat and train a model\n",
        "from sklearn.naive_bayes import MultinomialNB\n",
        "clf_mnb = MultinomialNB()\n",
        "clf_mnb.fit(X_train, y_train)"
      ]
    },
    {
      "cell_type": "code",
      "execution_count": 142,
      "metadata": {
        "colab": {
          "base_uri": "https://localhost:8080/"
        },
        "id": "C7C9Tcp-sRfD",
        "outputId": "b9b9dfd7-aa0e-4a15-a2e8-c08f4700d4ab"
      },
      "outputs": [
        {
          "output_type": "stream",
          "name": "stdout",
          "text": [
            "Accuracy is: 0.7500\n",
            "\n"
          ]
        }
      ],
      "source": [
        "# Evaluate the model\n",
        "y_pred = clf_mnb.predict(X_test)\n",
        "accuracy = accuracy_score(y_test, y_pred)\n",
        "print('Accuracy is: %.4f\\n' % accuracy)"
      ]
    },
    {
      "cell_type": "code",
      "execution_count": 143,
      "metadata": {
        "colab": {
          "base_uri": "https://localhost:8080/"
        },
        "id": "GG-dF4IfsRfF",
        "outputId": "4b881a39-4bfa-4826-d6d5-e8e70bef2126"
      },
      "outputs": [
        {
          "output_type": "stream",
          "name": "stdout",
          "text": [
            "Estimated probability of classess: \n",
            " [0.4 0.6]\n",
            "Estimated class-conditional probabilities for each feature: \n",
            " [[0.6364 0.1818 0.1818]\n",
            " [0.4118 0.2941 0.2941]]\n"
          ]
        }
      ],
      "source": [
        "# Explore the learned model parameters (probabilities)\n",
        "# Note that the probabilities are in the logorithmic form. Why? The log-sum-exp trick for underflow of probability products\n",
        "print('Estimated probability of classess: \\n', np.e**clf_mnb.class_log_prior_)\n",
        "print('Estimated class-conditional probabilities for each feature: \\n', np.e**clf_mnb.feature_log_prob_)"
      ]
    },
    {
      "cell_type": "markdown",
      "metadata": {
        "id": "GEimxnVQsRfG"
      },
      "source": [
        "## Task 5\n",
        "Given the training data generated as follows. The number of data instances (6) is small while the demensionality of the data is relatively highly (100)."
      ]
    },
    {
      "cell_type": "code",
      "execution_count": 144,
      "metadata": {
        "id": "OzvAk2VxsRfH"
      },
      "outputs": [],
      "source": [
        "X = np.random.randint(5, size=(6, 100))\n",
        "y = np.array([1, 2, 3, 4, 5, 6])"
      ]
    },
    {
      "cell_type": "markdown",
      "metadata": {
        "id": "JhEhoYk7sRfH"
      },
      "source": [
        "Train a MultinomialNB model, and predict the label of a data X_new = [[1,2,1,0,2,3,0,3,2,1,1,3,3,0,4,2,2,0,0,2,2,3,4,4,4,4,0,3,3,\n",
        "          1,1,1,2,3,1,3,0,2,2,0,4,2,4,3,2,0,1,1,1,2,3,0,0,3,4,3,3,4,\n",
        "          2,1,0,0,0,0,4,1,2,0,0,4,4,0,4,1,3,1,1,1,3,1,1,1,4,3,1,1,3,\n",
        "          2,0,0,0,3,4,1,1,4,3,2,3,4]]:"
      ]
    },
    {
      "cell_type": "code",
      "execution_count": 146,
      "metadata": {
        "colab": {
          "base_uri": "https://localhost:8080/"
        },
        "id": "nnvleFA-sRfI",
        "outputId": "71a05788-9382-4050-c90b-7f08f3b9c3a4"
      },
      "outputs": [
        {
          "output_type": "execute_result",
          "data": {
            "text/plain": [
              "array([3])"
            ]
          },
          "metadata": {},
          "execution_count": 146
        }
      ],
      "source": [
        "# [Your code here ...]\n",
        "# Training a MultinimialLNM model\n",
        "clf_mnb = MultinomialNB()\n",
        "clf_mnb.fit(X,y)\n",
        "\n",
        "#predict the class of the new data instance\n",
        "X_new =  [[1,2,1,0,2,3,0,3,2,1,1,3,3,0,4,2,2,0,0,2,2,3,4,4,4,4,0,3,3, 1,1,1,2,3,1,3,0,2,2,0,4,2,4,3,2,0,1,1,1,2,3,0,0,3,4,3,3,4, 2,1,0,0,0,0,4,1,2,0,0,4,4,0,4,1,3,1,1,1,3,1,1,1,4,3,1,1,3, 2,0,0,0,3,4,1,1,4,3,2,3,4]]\n",
        "clf_mnb.predict(X_new)"
      ]
    },
    {
      "cell_type": "markdown",
      "metadata": {
        "id": "ikEKSDZKsRfI"
      },
      "source": [
        "In our lecture, we discussed that if there is no occurence of some feature values, zero probabilities will appear. To overcome this issue, Laplace correction (smoothing) is proposed, as shown in the follow formula. In the [MultinomialNB](https://scikit-learn.org/stable/modules/generated/sklearn.naive_bayes.MultinomialNB.html#sklearn.naive_bayes.MultinomialNB) implementation, the parameter 'alpha' controls the way we apply smoothing. The default value is 'alpha=1.0'. Please create and train a model with no Laplace smoothing for the above data set. Compare the leaned model parameters (probabilities) with the case 'alpha=1', by checking if there are zero probabilities (note that due to the accuracy issue, zero might be represented as a signficantly small number by the computer).\n",
        "$$p(x_{yi}|y)=\\frac{N_{yi}+\\alpha}{N_y+{\\alpha}n}$$"
      ]
    },
    {
      "cell_type": "code",
      "execution_count": 147,
      "metadata": {
        "colab": {
          "base_uri": "https://localhost:8080/"
        },
        "id": "Ne27vCyisRfK",
        "outputId": "bdcfb679-05b6-4765-de23-deaf8c3f4ef6"
      },
      "outputs": [
        {
          "output_type": "stream",
          "name": "stdout",
          "text": [
            "Estimated prapability of classes: \n",
            " [0.1667 0.1667 0.1667 0.1667 0.1667 0.1667]\n",
            "Estimated classes-condotional propability for each feature: \n",
            " [[1.5306e-02 1.0204e-02 5.1020e-03 5.1020e-03 5.1020e-13 1.5306e-02\n",
            "  5.1020e-13 2.0408e-02 5.1020e-13 1.5306e-02 1.5306e-02 1.0204e-02\n",
            "  1.0204e-02 5.1020e-13 2.0408e-02 1.5306e-02 5.1020e-13 5.1020e-03\n",
            "  1.0204e-02 1.5306e-02 5.1020e-03 2.0408e-02 5.1020e-13 5.1020e-13\n",
            "  2.0408e-02 5.1020e-13 5.1020e-13 5.1020e-13 1.0204e-02 5.1020e-03\n",
            "  2.0408e-02 1.0204e-02 5.1020e-03 2.0408e-02 1.0204e-02 5.1020e-03\n",
            "  1.0204e-02 1.5306e-02 5.1020e-13 1.5306e-02 1.5306e-02 2.0408e-02\n",
            "  1.5306e-02 5.1020e-13 1.0204e-02 2.0408e-02 5.1020e-03 2.0408e-02\n",
            "  5.1020e-13 1.0204e-02 1.5306e-02 5.1020e-13 5.1020e-03 5.1020e-03\n",
            "  1.0204e-02 5.1020e-03 2.0408e-02 1.0204e-02 5.1020e-13 1.0204e-02\n",
            "  2.0408e-02 2.0408e-02 1.0204e-02 1.5306e-02 5.1020e-03 2.0408e-02\n",
            "  1.0204e-02 5.1020e-03 1.0204e-02 5.1020e-03 2.0408e-02 5.1020e-13\n",
            "  2.0408e-02 5.1020e-03 2.0408e-02 2.0408e-02 2.0408e-02 1.0204e-02\n",
            "  5.1020e-03 2.0408e-02 1.0204e-02 5.1020e-13 1.0204e-02 1.5306e-02\n",
            "  5.1020e-13 2.0408e-02 5.1020e-03 2.0408e-02 5.1020e-03 5.1020e-13\n",
            "  5.1020e-03 1.0204e-02 1.5306e-02 2.0408e-02 5.1020e-13 1.5306e-02\n",
            "  5.1020e-13 5.1020e-13 5.1020e-03 1.5306e-02]\n",
            " [4.7393e-13 1.4218e-02 4.7393e-03 4.7393e-13 1.8957e-02 4.7393e-13\n",
            "  9.4787e-03 9.4787e-03 1.8957e-02 1.8957e-02 1.8957e-02 4.7393e-03\n",
            "  4.7393e-13 9.4787e-03 9.4787e-03 4.7393e-03 1.4218e-02 9.4787e-03\n",
            "  9.4787e-03 1.8957e-02 4.7393e-03 1.4218e-02 9.4787e-03 9.4787e-03\n",
            "  1.4218e-02 9.4787e-03 1.4218e-02 1.4218e-02 1.8957e-02 4.7393e-13\n",
            "  1.4218e-02 1.8957e-02 9.4787e-03 4.7393e-13 1.8957e-02 1.8957e-02\n",
            "  9.4787e-03 1.8957e-02 4.7393e-03 1.8957e-02 4.7393e-13 4.7393e-03\n",
            "  1.4218e-02 4.7393e-13 9.4787e-03 4.7393e-13 9.4787e-03 4.7393e-13\n",
            "  9.4787e-03 4.7393e-03 4.7393e-13 1.8957e-02 4.7393e-03 1.8957e-02\n",
            "  1.8957e-02 4.7393e-03 1.4218e-02 1.8957e-02 9.4787e-03 1.8957e-02\n",
            "  1.4218e-02 9.4787e-03 9.4787e-03 1.8957e-02 9.4787e-03 4.7393e-13\n",
            "  4.7393e-03 4.7393e-13 1.8957e-02 1.4218e-02 9.4787e-03 4.7393e-13\n",
            "  1.4218e-02 1.8957e-02 1.4218e-02 4.7393e-13 9.4787e-03 1.4218e-02\n",
            "  4.7393e-03 4.7393e-03 1.4218e-02 1.8957e-02 1.8957e-02 4.7393e-03\n",
            "  4.7393e-03 4.7393e-03 4.7393e-03 1.8957e-02 4.7393e-03 1.4218e-02\n",
            "  4.7393e-13 1.8957e-02 4.7393e-13 4.7393e-03 4.7393e-13 9.4787e-03\n",
            "  9.4787e-03 1.4218e-02 1.8957e-02 9.4787e-03]\n",
            " [1.6393e-02 5.4645e-03 5.4645e-03 5.4645e-03 5.4645e-13 1.6393e-02\n",
            "  5.4645e-13 5.4645e-13 2.1858e-02 5.4645e-13 5.4645e-13 1.0929e-02\n",
            "  2.1858e-02 5.4645e-03 5.4645e-13 5.4645e-13 1.6393e-02 5.4645e-03\n",
            "  5.4645e-03 1.0929e-02 5.4645e-03 5.4645e-03 1.0929e-02 1.0929e-02\n",
            "  5.4645e-03 1.6393e-02 2.1858e-02 5.4645e-03 1.0929e-02 1.6393e-02\n",
            "  1.0929e-02 5.4645e-13 5.4645e-03 5.4645e-13 1.0929e-02 2.1858e-02\n",
            "  1.6393e-02 5.4645e-03 5.4645e-03 1.0929e-02 2.1858e-02 5.4645e-13\n",
            "  1.6393e-02 5.4645e-03 5.4645e-03 5.4645e-03 2.1858e-02 1.6393e-02\n",
            "  1.0929e-02 1.0929e-02 1.6393e-02 2.1858e-02 1.0929e-02 5.4645e-03\n",
            "  5.4645e-13 5.4645e-03 1.6393e-02 1.0929e-02 5.4645e-13 2.1858e-02\n",
            "  5.4645e-13 1.0929e-02 1.0929e-02 5.4645e-03 1.6393e-02 5.4645e-13\n",
            "  2.1858e-02 1.6393e-02 1.6393e-02 1.0929e-02 1.6393e-02 1.0929e-02\n",
            "  2.1858e-02 1.6393e-02 5.4645e-13 5.4645e-13 1.6393e-02 1.6393e-02\n",
            "  1.6393e-02 1.6393e-02 5.4645e-03 5.4645e-13 1.6393e-02 5.4645e-03\n",
            "  1.6393e-02 5.4645e-13 2.1858e-02 5.4645e-03 5.4645e-03 5.4645e-13\n",
            "  1.0929e-02 1.0929e-02 5.4645e-03 1.6393e-02 2.1858e-02 5.4645e-03\n",
            "  5.4645e-03 1.0929e-02 1.0929e-02 1.6393e-02]\n",
            " [4.7170e-03 4.7170e-03 1.4151e-02 4.7170e-03 4.7170e-13 4.7170e-13\n",
            "  4.7170e-03 1.8868e-02 1.8868e-02 1.4151e-02 1.8868e-02 4.7170e-13\n",
            "  4.7170e-03 9.4340e-03 4.7170e-13 9.4340e-03 1.4151e-02 1.8868e-02\n",
            "  4.7170e-13 1.8868e-02 9.4340e-03 1.4151e-02 9.4340e-03 1.4151e-02\n",
            "  1.8868e-02 4.7170e-03 9.4340e-03 4.7170e-13 4.7170e-13 1.8868e-02\n",
            "  1.8868e-02 1.4151e-02 4.7170e-03 1.8868e-02 4.7170e-13 1.4151e-02\n",
            "  1.4151e-02 4.7170e-03 4.7170e-03 9.4340e-03 9.4340e-03 1.4151e-02\n",
            "  4.7170e-03 1.8868e-02 1.4151e-02 4.7170e-03 4.7170e-13 9.4340e-03\n",
            "  1.8868e-02 1.8868e-02 4.7170e-03 4.7170e-03 4.7170e-13 1.4151e-02\n",
            "  4.7170e-03 4.7170e-03 9.4340e-03 1.8868e-02 9.4340e-03 9.4340e-03\n",
            "  1.8868e-02 1.8868e-02 4.7170e-13 9.4340e-03 4.7170e-13 1.8868e-02\n",
            "  1.4151e-02 1.8868e-02 1.8868e-02 1.8868e-02 1.8868e-02 1.8868e-02\n",
            "  4.7170e-13 4.7170e-03 4.7170e-03 4.7170e-03 1.8868e-02 1.4151e-02\n",
            "  9.4340e-03 4.7170e-13 9.4340e-03 1.4151e-02 4.7170e-03 9.4340e-03\n",
            "  9.4340e-03 1.4151e-02 1.4151e-02 1.8868e-02 4.7170e-13 4.7170e-13\n",
            "  1.8868e-02 4.7170e-13 9.4340e-03 4.7170e-03 4.7170e-03 4.7170e-03\n",
            "  1.8868e-02 9.4340e-03 1.4151e-02 1.4151e-02]\n",
            " [1.1429e-02 5.7143e-13 2.2857e-02 1.7143e-02 2.2857e-02 5.7143e-03\n",
            "  5.7143e-13 2.2857e-02 5.7143e-03 1.7143e-02 5.7143e-03 1.1429e-02\n",
            "  2.2857e-02 5.7143e-13 1.1429e-02 5.7143e-13 1.7143e-02 1.7143e-02\n",
            "  2.2857e-02 2.2857e-02 5.7143e-13 1.1429e-02 5.7143e-03 1.7143e-02\n",
            "  5.7143e-03 5.7143e-13 2.2857e-02 5.7143e-13 1.7143e-02 1.1429e-02\n",
            "  1.1429e-02 2.2857e-02 5.7143e-03 1.1429e-02 1.7143e-02 1.7143e-02\n",
            "  1.7143e-02 5.7143e-13 1.1429e-02 5.7143e-03 2.2857e-02 5.7143e-13\n",
            "  2.2857e-02 5.7143e-13 5.7143e-03 5.7143e-13 5.7143e-03 1.1429e-02\n",
            "  5.7143e-03 5.7143e-13 2.2857e-02 5.7143e-03 1.7143e-02 5.7143e-13\n",
            "  5.7143e-13 1.1429e-02 5.7143e-03 5.7143e-03 1.7143e-02 1.7143e-02\n",
            "  1.7143e-02 5.7143e-03 5.7143e-03 5.7143e-13 1.1429e-02 5.7143e-13\n",
            "  5.7143e-13 5.7143e-03 5.7143e-13 1.7143e-02 1.1429e-02 1.1429e-02\n",
            "  5.7143e-13 5.7143e-13 1.7143e-02 5.7143e-13 1.7143e-02 1.7143e-02\n",
            "  5.7143e-03 5.7143e-03 5.7143e-03 1.1429e-02 5.7143e-03 5.7143e-03\n",
            "  5.7143e-13 1.7143e-02 2.2857e-02 5.7143e-13 5.7143e-03 1.7143e-02\n",
            "  5.7143e-13 5.7143e-13 5.7143e-03 2.2857e-02 1.7143e-02 1.1429e-02\n",
            "  1.7143e-02 1.1429e-02 5.7143e-03 2.2857e-02]\n",
            " [9.4787e-03 4.7393e-03 9.4787e-03 9.4787e-03 1.4218e-02 9.4787e-03\n",
            "  9.4787e-03 4.7393e-03 9.4787e-03 9.4787e-03 4.7393e-03 9.4787e-03\n",
            "  1.8957e-02 1.4218e-02 1.8957e-02 4.7393e-13 1.4218e-02 4.7393e-13\n",
            "  1.4218e-02 1.8957e-02 9.4787e-03 1.8957e-02 4.7393e-03 4.7393e-13\n",
            "  4.7393e-13 4.7393e-13 4.7393e-03 1.4218e-02 1.4218e-02 1.8957e-02\n",
            "  1.4218e-02 1.8957e-02 4.7393e-13 1.4218e-02 4.7393e-13 4.7393e-13\n",
            "  4.7393e-03 1.4218e-02 9.4787e-03 1.4218e-02 4.7393e-03 4.7393e-13\n",
            "  1.8957e-02 1.4218e-02 1.4218e-02 9.4787e-03 1.4218e-02 4.7393e-03\n",
            "  4.7393e-13 1.8957e-02 1.4218e-02 1.8957e-02 4.7393e-13 1.8957e-02\n",
            "  1.8957e-02 4.7393e-13 4.7393e-13 1.8957e-02 1.8957e-02 4.7393e-13\n",
            "  4.7393e-13 1.4218e-02 1.8957e-02 4.7393e-13 1.8957e-02 1.4218e-02\n",
            "  1.8957e-02 9.4787e-03 4.7393e-13 1.8957e-02 4.7393e-03 1.8957e-02\n",
            "  1.8957e-02 9.4787e-03 9.4787e-03 1.8957e-02 9.4787e-03 4.7393e-13\n",
            "  4.7393e-13 1.8957e-02 1.4218e-02 1.8957e-02 1.8957e-02 1.4218e-02\n",
            "  4.7393e-13 4.7393e-03 1.8957e-02 9.4787e-03 9.4787e-03 4.7393e-03\n",
            "  4.7393e-13 4.7393e-13 9.4787e-03 1.4218e-02 1.8957e-02 4.7393e-03\n",
            "  4.7393e-13 9.4787e-03 4.7393e-03 1.4218e-02]]\n"
          ]
        }
      ],
      "source": [
        "# [Your code here ...]\n",
        "#create and train a MultiomnialNB model with no Laplace smoothing\n",
        "\n",
        "clf_mnb = MultinomialNB(alpha=0)\n",
        "clf_mnb.fit(X,y)\n",
        "print(\"Estimated prapability of classes: \\n\", np.e**clf_mnb.class_log_prior_)\n",
        "print(\"Estimated classes-condotional propability for each feature: \\n\", np.e**clf_mnb.feature_log_prob_)"
      ]
    },
    {
      "cell_type": "markdown",
      "metadata": {
        "id": "hBgdV4aIsRfL"
      },
      "source": [
        "* ### Comparasion on Iris data\n",
        "## Task 6\n",
        "Compare the prediction accuaracy between KNN clasifier (use the optimal K you've identied) and Gaussian Naive Bayes. Use 10-cross validation to report the accuracy mean and standard deviation (Note this is to ensure the comparison is based on robust performace). Which classifidation mdoel is more accurate on Iris data set? Use t-test to show if the difference is statistically significant."
      ]
    },
    {
      "cell_type": "code",
      "execution_count": 148,
      "metadata": {
        "colab": {
          "base_uri": "https://localhost:8080/"
        },
        "id": "qCFjnRxbsRfM",
        "outputId": "4400bf02-3c47-4919-b567-272351ea31a7"
      },
      "outputs": [
        {
          "output_type": "stream",
          "name": "stdout",
          "text": [
            "Guassian Naive Bayes accuracy range: [0.8667, 1.0000]; mean: 0.9533; std: 0.0427\n",
            "\n",
            "KNN Classifier accuracy range: [0.9333, 1.0000]: mean: 0.9800; std: 0.0306\n",
            "\n",
            "t, p: -1.5240, 0.1449\n",
            "\n"
          ]
        }
      ],
      "source": [
        "# [Your code here ...]\n",
        "clf_gnb = GaussianNB()\n",
        "clf_knn = KNeighborsClassifier(n_neighbors=13)\n",
        "\n",
        "scores = cross_val_score(clf_gnb, iris_data['data'], iris_data['target'], scoring='accuracy', cv=10)\n",
        "print('Guassian Naive Bayes accuracy range: [%.4f, %.4f]; mean: %.4f; std: %.4f\\n' % (scores.min(), scores.max(), scores.mean(), scores.std()))\n",
        "scores_gnb = scores\n",
        "\n",
        "\n",
        "scores = cross_val_score(clf_knn, iris_data['data'], iris_data['target'], scoring='accuracy', cv=10)\n",
        "print('KNN Classifier accuracy range: [%.4f, %.4f]: mean: %.4f; std: %.4f\\n' % (scores.min(), scores.max(), scores.mean(), scores.std()))\n",
        "scores_knn = scores\n",
        "\n",
        "#This is to shows t-test on thier performances.\n",
        "from scipy.stats import ttest_ind\n",
        "t, p = ttest_ind (scores_gnb, scores_knn)\n",
        "print ('t, p: %.4f, %.4f\\n' % (t, p))\n"
      ]
    },
    {
      "cell_type": "code",
      "execution_count": null,
      "metadata": {
        "id": "vlLYe75EsRfM"
      },
      "outputs": [],
      "source": []
    },
    {
      "cell_type": "code",
      "execution_count": null,
      "metadata": {
        "id": "xwJGNB9asRfN"
      },
      "outputs": [],
      "source": []
    }
  ],
  "metadata": {
    "kernelspec": {
      "display_name": "Python 3",
      "language": "python",
      "name": "python3"
    },
    "language_info": {
      "codemirror_mode": {
        "name": "ipython",
        "version": 3
      },
      "file_extension": ".py",
      "mimetype": "text/x-python",
      "name": "python",
      "nbconvert_exporter": "python",
      "pygments_lexer": "ipython3",
      "version": "3.7.4"
    },
    "colab": {
      "provenance": []
    }
  },
  "nbformat": 4,
  "nbformat_minor": 0
}