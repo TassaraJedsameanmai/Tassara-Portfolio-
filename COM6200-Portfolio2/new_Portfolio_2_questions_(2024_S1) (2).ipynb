{
  "cells": [
    {
      "cell_type": "markdown",
      "id": "Z88FfJc9lA_T",
      "metadata": {
        "id": "Z88FfJc9lA_T"
      },
      "source": [
        "## Analysis of an E-commerce Dataset Part 2"
      ]
    },
    {
      "cell_type": "markdown",
      "id": "hoq0NwA9lA_V",
      "metadata": {
        "id": "hoq0NwA9lA_V"
      },
      "source": [
        "The goal of the second analysis task is to train linear regression models to predict users' ratings towards items. This involves a standard Data Science workflow: exploring data, building models, making predictions, and evaluating results. In this task, we will explore the impacts of feature selections and different sizes of training/testing data on the model performance. We will use another cleaned combined e-commerce sub-dataset that **is different from** the one in “Analysis of an E-commerce Dataset” task 1."
      ]
    },
    {
      "cell_type": "markdown",
      "id": "f9fd3NU_lA_W",
      "metadata": {
        "id": "f9fd3NU_lA_W"
      },
      "source": [
        "### Import Cleaned E-commerce Dataset\n",
        "The csv file named 'cleaned_ecommerce_dataset.csv' is provided. You may need to use the Pandas method, i.e., `read_csv`, for reading it. After that, please print out its total length."
      ]
    },
    {
      "cell_type": "code",
      "source": [
        "import pandas as pd\n",
        "df = pd.read_csv('/content/cleaned_ecommerce_dataset.csv')"
      ],
      "metadata": {
        "id": "s3kTwqfSLakB"
      },
      "id": "s3kTwqfSLakB",
      "execution_count": 24,
      "outputs": []
    },
    {
      "cell_type": "code",
      "execution_count": 17,
      "id": "PJrb2gtAlA_W",
      "metadata": {
        "id": "PJrb2gtAlA_W"
      },
      "outputs": [],
      "source": [
        "import pandas as pd\n",
        "import numpy as np\n",
        "from sklearn.model_selection import train_test_split\n",
        "from sklearn import linear_model\n",
        "from sklearn.metrics import r2_score\n",
        "import seaborn as sns\n",
        "import matplotlib.pylab as plt\n",
        "%matplotlib inline"
      ]
    },
    {
      "cell_type": "code",
      "source": [
        "df.head()"
      ],
      "metadata": {
        "colab": {
          "base_uri": "https://localhost:8080/",
          "height": 275
        },
        "id": "RSDUY4c--IAo",
        "outputId": "5a3feddf-1e17-407b-d484-01ac00bc1990"
      },
      "id": "RSDUY4c--IAo",
      "execution_count": 18,
      "outputs": [
        {
          "output_type": "execute_result",
          "data": {
            "text/plain": [
              "   userId  timestamp                                           review  \\\n",
              "0    4081      71900                                Not always McCrap   \n",
              "1    4081      72000  I dropped the chalupa even before he told me to   \n",
              "2    4081      72000                     The Wonderful World of Wendy   \n",
              "3    4081     100399                             They actually did it   \n",
              "4    4081     100399                             Hey! Gimme some pie!   \n",
              "\n",
              "                                 item  rating  helpfulness gender  \\\n",
              "0                          McDonald's     4.0          3.0      M   \n",
              "1                           Taco Bell     1.0          4.0      M   \n",
              "2                             Wendy's     5.0          4.0      M   \n",
              "3  South Park: Bigger, Longer & Uncut     5.0          3.0      M   \n",
              "4                        American Pie     3.0          3.0      M   \n",
              "\n",
              "                category  item_id  item_price  user_city  \n",
              "0  Restaurants & Gourmet       41       30.74          4  \n",
              "1  Restaurants & Gourmet       74      108.30          4  \n",
              "2  Restaurants & Gourmet       84       69.00          4  \n",
              "3                 Movies       68      143.11          4  \n",
              "4                 Movies        6      117.89          4  "
            ],
            "text/html": [
              "\n",
              "  <div id=\"df-80b97e02-391e-4759-a719-44f91ee1ff62\" class=\"colab-df-container\">\n",
              "    <div>\n",
              "<style scoped>\n",
              "    .dataframe tbody tr th:only-of-type {\n",
              "        vertical-align: middle;\n",
              "    }\n",
              "\n",
              "    .dataframe tbody tr th {\n",
              "        vertical-align: top;\n",
              "    }\n",
              "\n",
              "    .dataframe thead th {\n",
              "        text-align: right;\n",
              "    }\n",
              "</style>\n",
              "<table border=\"1\" class=\"dataframe\">\n",
              "  <thead>\n",
              "    <tr style=\"text-align: right;\">\n",
              "      <th></th>\n",
              "      <th>userId</th>\n",
              "      <th>timestamp</th>\n",
              "      <th>review</th>\n",
              "      <th>item</th>\n",
              "      <th>rating</th>\n",
              "      <th>helpfulness</th>\n",
              "      <th>gender</th>\n",
              "      <th>category</th>\n",
              "      <th>item_id</th>\n",
              "      <th>item_price</th>\n",
              "      <th>user_city</th>\n",
              "    </tr>\n",
              "  </thead>\n",
              "  <tbody>\n",
              "    <tr>\n",
              "      <th>0</th>\n",
              "      <td>4081</td>\n",
              "      <td>71900</td>\n",
              "      <td>Not always McCrap</td>\n",
              "      <td>McDonald's</td>\n",
              "      <td>4.0</td>\n",
              "      <td>3.0</td>\n",
              "      <td>M</td>\n",
              "      <td>Restaurants &amp; Gourmet</td>\n",
              "      <td>41</td>\n",
              "      <td>30.74</td>\n",
              "      <td>4</td>\n",
              "    </tr>\n",
              "    <tr>\n",
              "      <th>1</th>\n",
              "      <td>4081</td>\n",
              "      <td>72000</td>\n",
              "      <td>I dropped the chalupa even before he told me to</td>\n",
              "      <td>Taco Bell</td>\n",
              "      <td>1.0</td>\n",
              "      <td>4.0</td>\n",
              "      <td>M</td>\n",
              "      <td>Restaurants &amp; Gourmet</td>\n",
              "      <td>74</td>\n",
              "      <td>108.30</td>\n",
              "      <td>4</td>\n",
              "    </tr>\n",
              "    <tr>\n",
              "      <th>2</th>\n",
              "      <td>4081</td>\n",
              "      <td>72000</td>\n",
              "      <td>The Wonderful World of Wendy</td>\n",
              "      <td>Wendy's</td>\n",
              "      <td>5.0</td>\n",
              "      <td>4.0</td>\n",
              "      <td>M</td>\n",
              "      <td>Restaurants &amp; Gourmet</td>\n",
              "      <td>84</td>\n",
              "      <td>69.00</td>\n",
              "      <td>4</td>\n",
              "    </tr>\n",
              "    <tr>\n",
              "      <th>3</th>\n",
              "      <td>4081</td>\n",
              "      <td>100399</td>\n",
              "      <td>They actually did it</td>\n",
              "      <td>South Park: Bigger, Longer &amp; Uncut</td>\n",
              "      <td>5.0</td>\n",
              "      <td>3.0</td>\n",
              "      <td>M</td>\n",
              "      <td>Movies</td>\n",
              "      <td>68</td>\n",
              "      <td>143.11</td>\n",
              "      <td>4</td>\n",
              "    </tr>\n",
              "    <tr>\n",
              "      <th>4</th>\n",
              "      <td>4081</td>\n",
              "      <td>100399</td>\n",
              "      <td>Hey! Gimme some pie!</td>\n",
              "      <td>American Pie</td>\n",
              "      <td>3.0</td>\n",
              "      <td>3.0</td>\n",
              "      <td>M</td>\n",
              "      <td>Movies</td>\n",
              "      <td>6</td>\n",
              "      <td>117.89</td>\n",
              "      <td>4</td>\n",
              "    </tr>\n",
              "  </tbody>\n",
              "</table>\n",
              "</div>\n",
              "    <div class=\"colab-df-buttons\">\n",
              "\n",
              "  <div class=\"colab-df-container\">\n",
              "    <button class=\"colab-df-convert\" onclick=\"convertToInteractive('df-80b97e02-391e-4759-a719-44f91ee1ff62')\"\n",
              "            title=\"Convert this dataframe to an interactive table.\"\n",
              "            style=\"display:none;\">\n",
              "\n",
              "  <svg xmlns=\"http://www.w3.org/2000/svg\" height=\"24px\" viewBox=\"0 -960 960 960\">\n",
              "    <path d=\"M120-120v-720h720v720H120Zm60-500h600v-160H180v160Zm220 220h160v-160H400v160Zm0 220h160v-160H400v160ZM180-400h160v-160H180v160Zm440 0h160v-160H620v160ZM180-180h160v-160H180v160Zm440 0h160v-160H620v160Z\"/>\n",
              "  </svg>\n",
              "    </button>\n",
              "\n",
              "  <style>\n",
              "    .colab-df-container {\n",
              "      display:flex;\n",
              "      gap: 12px;\n",
              "    }\n",
              "\n",
              "    .colab-df-convert {\n",
              "      background-color: #E8F0FE;\n",
              "      border: none;\n",
              "      border-radius: 50%;\n",
              "      cursor: pointer;\n",
              "      display: none;\n",
              "      fill: #1967D2;\n",
              "      height: 32px;\n",
              "      padding: 0 0 0 0;\n",
              "      width: 32px;\n",
              "    }\n",
              "\n",
              "    .colab-df-convert:hover {\n",
              "      background-color: #E2EBFA;\n",
              "      box-shadow: 0px 1px 2px rgba(60, 64, 67, 0.3), 0px 1px 3px 1px rgba(60, 64, 67, 0.15);\n",
              "      fill: #174EA6;\n",
              "    }\n",
              "\n",
              "    .colab-df-buttons div {\n",
              "      margin-bottom: 4px;\n",
              "    }\n",
              "\n",
              "    [theme=dark] .colab-df-convert {\n",
              "      background-color: #3B4455;\n",
              "      fill: #D2E3FC;\n",
              "    }\n",
              "\n",
              "    [theme=dark] .colab-df-convert:hover {\n",
              "      background-color: #434B5C;\n",
              "      box-shadow: 0px 1px 3px 1px rgba(0, 0, 0, 0.15);\n",
              "      filter: drop-shadow(0px 1px 2px rgba(0, 0, 0, 0.3));\n",
              "      fill: #FFFFFF;\n",
              "    }\n",
              "  </style>\n",
              "\n",
              "    <script>\n",
              "      const buttonEl =\n",
              "        document.querySelector('#df-80b97e02-391e-4759-a719-44f91ee1ff62 button.colab-df-convert');\n",
              "      buttonEl.style.display =\n",
              "        google.colab.kernel.accessAllowed ? 'block' : 'none';\n",
              "\n",
              "      async function convertToInteractive(key) {\n",
              "        const element = document.querySelector('#df-80b97e02-391e-4759-a719-44f91ee1ff62');\n",
              "        const dataTable =\n",
              "          await google.colab.kernel.invokeFunction('convertToInteractive',\n",
              "                                                    [key], {});\n",
              "        if (!dataTable) return;\n",
              "\n",
              "        const docLinkHtml = 'Like what you see? Visit the ' +\n",
              "          '<a target=\"_blank\" href=https://colab.research.google.com/notebooks/data_table.ipynb>data table notebook</a>'\n",
              "          + ' to learn more about interactive tables.';\n",
              "        element.innerHTML = '';\n",
              "        dataTable['output_type'] = 'display_data';\n",
              "        await google.colab.output.renderOutput(dataTable, element);\n",
              "        const docLink = document.createElement('div');\n",
              "        docLink.innerHTML = docLinkHtml;\n",
              "        element.appendChild(docLink);\n",
              "      }\n",
              "    </script>\n",
              "  </div>\n",
              "\n",
              "\n",
              "<div id=\"df-82f05a18-302e-4e63-be6f-2d9beb1535c5\">\n",
              "  <button class=\"colab-df-quickchart\" onclick=\"quickchart('df-82f05a18-302e-4e63-be6f-2d9beb1535c5')\"\n",
              "            title=\"Suggest charts\"\n",
              "            style=\"display:none;\">\n",
              "\n",
              "<svg xmlns=\"http://www.w3.org/2000/svg\" height=\"24px\"viewBox=\"0 0 24 24\"\n",
              "     width=\"24px\">\n",
              "    <g>\n",
              "        <path d=\"M19 3H5c-1.1 0-2 .9-2 2v14c0 1.1.9 2 2 2h14c1.1 0 2-.9 2-2V5c0-1.1-.9-2-2-2zM9 17H7v-7h2v7zm4 0h-2V7h2v10zm4 0h-2v-4h2v4z\"/>\n",
              "    </g>\n",
              "</svg>\n",
              "  </button>\n",
              "\n",
              "<style>\n",
              "  .colab-df-quickchart {\n",
              "      --bg-color: #E8F0FE;\n",
              "      --fill-color: #1967D2;\n",
              "      --hover-bg-color: #E2EBFA;\n",
              "      --hover-fill-color: #174EA6;\n",
              "      --disabled-fill-color: #AAA;\n",
              "      --disabled-bg-color: #DDD;\n",
              "  }\n",
              "\n",
              "  [theme=dark] .colab-df-quickchart {\n",
              "      --bg-color: #3B4455;\n",
              "      --fill-color: #D2E3FC;\n",
              "      --hover-bg-color: #434B5C;\n",
              "      --hover-fill-color: #FFFFFF;\n",
              "      --disabled-bg-color: #3B4455;\n",
              "      --disabled-fill-color: #666;\n",
              "  }\n",
              "\n",
              "  .colab-df-quickchart {\n",
              "    background-color: var(--bg-color);\n",
              "    border: none;\n",
              "    border-radius: 50%;\n",
              "    cursor: pointer;\n",
              "    display: none;\n",
              "    fill: var(--fill-color);\n",
              "    height: 32px;\n",
              "    padding: 0;\n",
              "    width: 32px;\n",
              "  }\n",
              "\n",
              "  .colab-df-quickchart:hover {\n",
              "    background-color: var(--hover-bg-color);\n",
              "    box-shadow: 0 1px 2px rgba(60, 64, 67, 0.3), 0 1px 3px 1px rgba(60, 64, 67, 0.15);\n",
              "    fill: var(--button-hover-fill-color);\n",
              "  }\n",
              "\n",
              "  .colab-df-quickchart-complete:disabled,\n",
              "  .colab-df-quickchart-complete:disabled:hover {\n",
              "    background-color: var(--disabled-bg-color);\n",
              "    fill: var(--disabled-fill-color);\n",
              "    box-shadow: none;\n",
              "  }\n",
              "\n",
              "  .colab-df-spinner {\n",
              "    border: 2px solid var(--fill-color);\n",
              "    border-color: transparent;\n",
              "    border-bottom-color: var(--fill-color);\n",
              "    animation:\n",
              "      spin 1s steps(1) infinite;\n",
              "  }\n",
              "\n",
              "  @keyframes spin {\n",
              "    0% {\n",
              "      border-color: transparent;\n",
              "      border-bottom-color: var(--fill-color);\n",
              "      border-left-color: var(--fill-color);\n",
              "    }\n",
              "    20% {\n",
              "      border-color: transparent;\n",
              "      border-left-color: var(--fill-color);\n",
              "      border-top-color: var(--fill-color);\n",
              "    }\n",
              "    30% {\n",
              "      border-color: transparent;\n",
              "      border-left-color: var(--fill-color);\n",
              "      border-top-color: var(--fill-color);\n",
              "      border-right-color: var(--fill-color);\n",
              "    }\n",
              "    40% {\n",
              "      border-color: transparent;\n",
              "      border-right-color: var(--fill-color);\n",
              "      border-top-color: var(--fill-color);\n",
              "    }\n",
              "    60% {\n",
              "      border-color: transparent;\n",
              "      border-right-color: var(--fill-color);\n",
              "    }\n",
              "    80% {\n",
              "      border-color: transparent;\n",
              "      border-right-color: var(--fill-color);\n",
              "      border-bottom-color: var(--fill-color);\n",
              "    }\n",
              "    90% {\n",
              "      border-color: transparent;\n",
              "      border-bottom-color: var(--fill-color);\n",
              "    }\n",
              "  }\n",
              "</style>\n",
              "\n",
              "  <script>\n",
              "    async function quickchart(key) {\n",
              "      const quickchartButtonEl =\n",
              "        document.querySelector('#' + key + ' button');\n",
              "      quickchartButtonEl.disabled = true;  // To prevent multiple clicks.\n",
              "      quickchartButtonEl.classList.add('colab-df-spinner');\n",
              "      try {\n",
              "        const charts = await google.colab.kernel.invokeFunction(\n",
              "            'suggestCharts', [key], {});\n",
              "      } catch (error) {\n",
              "        console.error('Error during call to suggestCharts:', error);\n",
              "      }\n",
              "      quickchartButtonEl.classList.remove('colab-df-spinner');\n",
              "      quickchartButtonEl.classList.add('colab-df-quickchart-complete');\n",
              "    }\n",
              "    (() => {\n",
              "      let quickchartButtonEl =\n",
              "        document.querySelector('#df-82f05a18-302e-4e63-be6f-2d9beb1535c5 button');\n",
              "      quickchartButtonEl.style.display =\n",
              "        google.colab.kernel.accessAllowed ? 'block' : 'none';\n",
              "    })();\n",
              "  </script>\n",
              "</div>\n",
              "\n",
              "    </div>\n",
              "  </div>\n"
            ],
            "application/vnd.google.colaboratory.intrinsic+json": {
              "type": "dataframe",
              "variable_name": "df",
              "summary": "{\n  \"name\": \"df\",\n  \"rows\": 2685,\n  \"fields\": [\n    {\n      \"column\": \"userId\",\n      \"properties\": {\n        \"dtype\": \"number\",\n        \"std\": 3517,\n        \"min\": 4,\n        \"max\": 10779,\n        \"num_unique_values\": 267,\n        \"samples\": [\n          6055,\n          5096,\n          1736\n        ],\n        \"semantic_type\": \"\",\n        \"description\": \"\"\n      }\n    },\n    {\n      \"column\": \"timestamp\",\n      \"properties\": {\n        \"dtype\": \"number\",\n        \"std\": 37013,\n        \"min\": 10100,\n        \"max\": 123199,\n        \"num_unique_values\": 844,\n        \"samples\": [\n          112605,\n          51500,\n          30606\n        ],\n        \"semantic_type\": \"\",\n        \"description\": \"\"\n      }\n    },\n    {\n      \"column\": \"review\",\n      \"properties\": {\n        \"dtype\": \"string\",\n        \"num_unique_values\": 2675,\n        \"samples\": [\n          \"Outback Steakhouse, A Bonzer Good Time!\",\n          \"What more can you ask?&#129;@&#129;@&#129;@Updated!!\",\n          \"Sparks that Love of Reading\"\n        ],\n        \"semantic_type\": \"\",\n        \"description\": \"\"\n      }\n    },\n    {\n      \"column\": \"item\",\n      \"properties\": {\n        \"dtype\": \"category\",\n        \"num_unique_values\": 82,\n        \"samples\": [\n          \"Gladiator\",\n          \"McDonald's\",\n          \"Treeloot.com\"\n        ],\n        \"semantic_type\": \"\",\n        \"description\": \"\"\n      }\n    },\n    {\n      \"column\": \"rating\",\n      \"properties\": {\n        \"dtype\": \"number\",\n        \"std\": 1.3462402969005542,\n        \"min\": 1.0,\n        \"max\": 5.0,\n        \"num_unique_values\": 5,\n        \"samples\": [\n          1.0,\n          2.0,\n          5.0\n        ],\n        \"semantic_type\": \"\",\n        \"description\": \"\"\n      }\n    },\n    {\n      \"column\": \"helpfulness\",\n      \"properties\": {\n        \"dtype\": \"number\",\n        \"std\": 0.2890692705279668,\n        \"min\": 3.0,\n        \"max\": 4.0,\n        \"num_unique_values\": 2,\n        \"samples\": [\n          4.0,\n          3.0\n        ],\n        \"semantic_type\": \"\",\n        \"description\": \"\"\n      }\n    },\n    {\n      \"column\": \"gender\",\n      \"properties\": {\n        \"dtype\": \"category\",\n        \"num_unique_values\": 2,\n        \"samples\": [\n          \"F\",\n          \"M\"\n        ],\n        \"semantic_type\": \"\",\n        \"description\": \"\"\n      }\n    },\n    {\n      \"column\": \"category\",\n      \"properties\": {\n        \"dtype\": \"category\",\n        \"num_unique_values\": 9,\n        \"samples\": [\n          \"Books\",\n          \"Movies\"\n        ],\n        \"semantic_type\": \"\",\n        \"description\": \"\"\n      }\n    },\n    {\n      \"column\": \"item_id\",\n      \"properties\": {\n        \"dtype\": \"number\",\n        \"std\": 26,\n        \"min\": 0,\n        \"max\": 88,\n        \"num_unique_values\": 82,\n        \"samples\": [\n          30,\n          41\n        ],\n        \"semantic_type\": \"\",\n        \"description\": \"\"\n      }\n    },\n    {\n      \"column\": \"item_price\",\n      \"properties\": {\n        \"dtype\": \"number\",\n        \"std\": 42.22755752852902,\n        \"min\": 12.0,\n        \"max\": 149.0,\n        \"num_unique_values\": 77,\n        \"samples\": [\n          117.89,\n          62.0\n        ],\n        \"semantic_type\": \"\",\n        \"description\": \"\"\n      }\n    },\n    {\n      \"column\": \"user_city\",\n      \"properties\": {\n        \"dtype\": \"number\",\n        \"std\": 11,\n        \"min\": 0,\n        \"max\": 39,\n        \"num_unique_values\": 40,\n        \"samples\": [\n          8,\n          7\n        ],\n        \"semantic_type\": \"\",\n        \"description\": \"\"\n      }\n    }\n  ]\n}"
            }
          },
          "metadata": {},
          "execution_count": 18
        }
      ]
    },
    {
      "cell_type": "markdown",
      "id": "aqbuU6rglA_X",
      "metadata": {
        "id": "aqbuU6rglA_X"
      },
      "source": [
        "### Explore the Dataset\n",
        "\n",
        "* Use the methods, i.e., `head()` and `info()`, to have a rough picture about the data, e.g., how many columns, and the data types of each column.\n",
        "* As our goal is to predict ratings given other columns, please get the correlations between helpfulness/gender/category/review and rating by using the `corr()` method.\n",
        "\n",
        "  Hints: To get the correlations between different features, you may need to first convert the categorical features (i.e., gender, category and review) into numerial values. For doing this, you may need to import `OrdinalEncoder` from `sklearn.preprocessing` (refer to the useful exmaples [here](https://pbpython.com/categorical-encoding.html))\n",
        "* Please provide ___necessary explanations/analysis___ on the correlations, and figure out which are the ___most___ and ___least___ corrleated features regarding rating. Try to ___discuss___ how the correlation will affect the final prediction results, if we use these features to train a regression model for rating prediction. In what follows, we will conduct experiments to verify your hypothesis."
      ]
    },
    {
      "cell_type": "code",
      "source": [],
      "metadata": {
        "id": "Yr0920pG9ZDe"
      },
      "id": "Yr0920pG9ZDe",
      "execution_count": null,
      "outputs": []
    },
    {
      "cell_type": "code",
      "source": [
        "#Using method head() and info() to find how many colums and the data types of each column\n",
        "import pandas as pd\n",
        "from sklearn.preprocessing import OrdinalEncoder\n",
        "df = pd.read_csv('/content/cleaned_ecommerce_dataset.csv')\n",
        "#Convert catergorical features to numerical values\n",
        "catergorical_features = ['gender','category','review']\n",
        "encoder = OrdinalEncoder()\n",
        "df[catergorical_features]=encoder.fit_transform(df[catergorical_features])\n",
        "print(df.head())\n",
        "print(df.info())\n",
        "\n"
      ],
      "metadata": {
        "colab": {
          "base_uri": "https://localhost:8080/"
        },
        "id": "d8ubWnbsOjzg",
        "outputId": "df2076f0-a105-40f2-e0cf-75e02e190e5a"
      },
      "id": "d8ubWnbsOjzg",
      "execution_count": 19,
      "outputs": [
        {
          "output_type": "stream",
          "name": "stdout",
          "text": [
            "   userId  timestamp  review                                item  rating  \\\n",
            "0    4081      71900  1618.0                          McDonald's     4.0   \n",
            "1    4081      72000  1125.0                           Taco Bell     1.0   \n",
            "2    4081      72000  2185.0                             Wendy's     5.0   \n",
            "3    4081     100399  2243.0  South Park: Bigger, Longer & Uncut     5.0   \n",
            "4    4081     100399  1033.0                        American Pie     3.0   \n",
            "\n",
            "   helpfulness  gender  category  item_id  item_price  user_city  \n",
            "0          3.0     1.0       8.0       41       30.74          4  \n",
            "1          4.0     1.0       8.0       74      108.30          4  \n",
            "2          4.0     1.0       8.0       84       69.00          4  \n",
            "3          3.0     1.0       5.0       68      143.11          4  \n",
            "4          3.0     1.0       5.0        6      117.89          4  \n",
            "<class 'pandas.core.frame.DataFrame'>\n",
            "RangeIndex: 2685 entries, 0 to 2684\n",
            "Data columns (total 11 columns):\n",
            " #   Column       Non-Null Count  Dtype  \n",
            "---  ------       --------------  -----  \n",
            " 0   userId       2685 non-null   int64  \n",
            " 1   timestamp    2685 non-null   int64  \n",
            " 2   review       2685 non-null   float64\n",
            " 3   item         2685 non-null   object \n",
            " 4   rating       2685 non-null   float64\n",
            " 5   helpfulness  2685 non-null   float64\n",
            " 6   gender       2685 non-null   float64\n",
            " 7   category     2685 non-null   float64\n",
            " 8   item_id      2685 non-null   int64  \n",
            " 9   item_price   2685 non-null   float64\n",
            " 10  user_city    2685 non-null   int64  \n",
            "dtypes: float64(6), int64(4), object(1)\n",
            "memory usage: 230.9+ KB\n",
            "None\n"
          ]
        }
      ]
    },
    {
      "cell_type": "code",
      "execution_count": 20,
      "id": "JIDMig9blA_Y",
      "metadata": {
        "id": "JIDMig9blA_Y",
        "colab": {
          "base_uri": "https://localhost:8080/"
        },
        "outputId": "0322653a-0edc-43bb-ba88-4ead0a34f66f"
      },
      "outputs": [
        {
          "output_type": "stream",
          "name": "stdout",
          "text": [
            "Correlation with ratings:\n",
            "rating         1.000000\n",
            "item_id        0.042890\n",
            "userId         0.032506\n",
            "item_price     0.027374\n",
            "timestamp      0.000369\n",
            "helpfulness   -0.007523\n",
            "user_city     -0.028825\n",
            "gender        -0.034337\n",
            "review        -0.036118\n",
            "category      -0.163158\n",
            "Name: rating, dtype: float64\n",
            "\n",
            "Most correlated features with ratings:\n",
            "\n",
            "Least correlated features with rating:\n"
          ]
        },
        {
          "output_type": "stream",
          "name": "stderr",
          "text": [
            "<ipython-input-20-fe5d2c444aaa>:2: FutureWarning: The default value of numeric_only in DataFrame.corr is deprecated. In a future version, it will default to False. Select only valid columns or specify the value of numeric_only to silence this warning.\n",
            "  correlation_matrix = df.corr() #calculate the correlation coefficients between numerics column in Dataframe\n"
          ]
        }
      ],
      "source": [
        "#Correlation\n",
        "correlation_matrix = df.corr() #calculate the correlation coefficients between numerics column in Dataframe\n",
        "rating_correlation = correlation_matrix['rating'].sort_values(ascending=False) #sperate out the correlations related 'rating' and sorts the from highest to lowest\n",
        "print(\"Correlation with ratings:\")\n",
        "print(rating_correlation)\n",
        "most_correlation_features = rating_correlation.head(2) #select top two highest correlation values\n",
        "least_correlated_features = rating_correlation.tail(2) # select bottom two lowest correlation values\n",
        "print(\"\\nMost correlated features with ratings:\")\n",
        "print(\"\\nLeast correlated features with rating:\")\n",
        "\n"
      ]
    },
    {
      "cell_type": "markdown",
      "source": [
        "from figure out of correlation with rating shows most correlated are item_id(0.042890) and user_id(0.032506) suggest that they maybe useful for predicting product of service rating in train a regression model.\n",
        "- user_id this demonstrates individual rating behavior, some user satify with products and some user not. Predictions could improve by recognizing the rating patterns of specific users.\n",
        "- item_id and rating are correlated suggest that the specific products may consistenly receive similar ratings. For instance some products may consistenly obtain high ratings due to quality issue or popularity. On  the other hand some procuct receive low ratings due to quality issues or perception. item_id in the training data could help the model recognize the specific characteristics of each product that effect rating.\n",
        "Least correlated are category(-0.163158) and review(-0.036118) are a negative correlation coefficient in correlation analysis which means there is an inverse relationship between two variables as one variable increases, the other decreases\n",
        "- If category or review has a negative correlation with rating, the predic result will show as the values of category or review increase, the expected rating decrease.\n",
        "\n",
        "\n"
      ],
      "metadata": {
        "id": "dMroR-tM26c6"
      },
      "id": "dMroR-tM26c6"
    },
    {
      "cell_type": "markdown",
      "id": "DjSsgT0BlA_Y",
      "metadata": {
        "id": "DjSsgT0BlA_Y"
      },
      "source": [
        "### Train Linear Regression Models with Feature Selection under Cases 1 & 2\n",
        "* When training a machine learning model for prediction, we may need to select the most important/correlated input features for more accurate results.\n",
        "* To investigate whether feature selection affects the model performance, please select two most correlated features and two least correlated features from helpfulness/gender/category/review regarding rating, respectively.\n",
        "* Train four linear regression models by following the conditions:\n",
        "    - (model-a) using the training/testing data in case 1 with two most correlated input features\n",
        "    - (model-b) using the training/testing data in case 1 with two least correlated input features\n",
        "    - (model-c) using the training/testing data in case 2 with two most correlated input features\n",
        "    - (model-d) using the training/testing data in case 2 with two least correlated input features\n",
        "* By doing this, we can verify the impacts of the size of traing/testing data on the model performance via comparing model-a and model-c (or model-b and model-d); meanwhile the impacts of feature selection can be validated via comparing model-a and model-b (or model-c and model-d).    "
      ]
    },
    {
      "cell_type": "code",
      "source": [
        "from sklearn.model_selection import train_test_split\n",
        "from sklearn.linear_model import LinearRegression\n",
        "from sklearn.metrics import mean_squared_error, r2_score\n",
        "import numpy as np\n",
        "\n",
        "most_correlated_features = ['item_id', 'userId']\n",
        "least_correlated_features = ['category', 'review']\n",
        "# Splitting the dataset into features (X) and target (y)\n",
        "X_most_correlated = df[most_correlated_features]\n",
        "X_least_correlated = df[least_correlated_features]\n",
        "y = df['rating']\n",
        "\n",
        "# Case 1 split (e.g., 80% training, 20% testing)\n",
        "X_train_most_80, X_test_most_80, y_train_80, y_test_80 = train_test_split(X_most_correlated, y, test_size=0.2, random_state=42)\n",
        "X_train_least_80, X_test_least_80, _, _ = train_test_split(X_least_correlated, y, test_size=0.2, random_state=42)\n",
        "\n",
        "# Case 2 split (e.g., 60% training, 40% testing)\n",
        "X_train_most_60, X_test_most_60, y_train_60, y_test_60 = train_test_split(X_most_correlated, y, test_size=0.4, random_state=42)\n",
        "X_train_least_60, X_test_least_60, _, _ = train_test_split(X_least_correlated, y, test_size=0.4, random_state=42)\n",
        "\n",
        "# Function to train and evaluate a model\n",
        "def train_and_evaluate(X_train, X_test, y_train, y_test):\n",
        "    model = LinearRegression()\n",
        "    model.fit(X_train, y_train)\n",
        "    predictions = model.predict(X_test)\n",
        "    mse = mean_squared_error(y_test, predictions)\n",
        "    rmse = np.sqrt(mse)\n",
        "    r2 = r2_score(y_test, predictions)\n",
        "    return mse, rmse, r2\n",
        "\n",
        "# Training and evaluating models\n",
        "mse_a, rmse_a, r2_a = train_and_evaluate(X_train_most_80, X_test_most_80, y_train_80, y_test_80)  # Model A\n",
        "mse_b, rmse_b, r2_b = train_and_evaluate(X_train_least_80, X_test_least_80, y_train_80, y_test_80)  # Model B\n",
        "mse_c, rmse_c, r2_c = train_and_evaluate(X_train_most_60, X_test_most_60, y_train_60, y_test_60)  # Model C\n",
        "mse_d, rmse_d, r2_d = train_and_evaluate(X_train_least_60, X_test_least_60, y_train_60, y_test_60)  # Model D\n",
        "\n",
        "# Printing the results\n",
        "print(f\"Model A - MSE: {mse_a}, RMSE: {rmse_a}, R^2: {r2_a}\")\n",
        "print(f\"Model B - MSE: {mse_b}, RMSE: {rmse_b}, R^2: {r2_b}\")\n",
        "print(f\"Model C - MSE: {mse_c}, RMSE: {rmse_c}, R^2: {r2_c}\")\n",
        "print(f\"Model D - MSE: {mse_d}, RMSE: {rmse_d}, R^2: {r2_d}\")\n"
      ],
      "metadata": {
        "colab": {
          "base_uri": "https://localhost:8080/"
        },
        "id": "VwNqEinzFMSD",
        "outputId": "f4a0cfe6-caeb-446e-df25-72e6d29c2b25"
      },
      "id": "VwNqEinzFMSD",
      "execution_count": 21,
      "outputs": [
        {
          "output_type": "stream",
          "name": "stdout",
          "text": [
            "Model A - MSE: 1.7678673329484802, RMSE: 1.3296117226275046, R^2: -0.004532303447541297\n",
            "Model B - MSE: 1.719731167316296, RMSE: 1.3113852093554723, R^2: 0.022819485026871145\n",
            "Model C - MSE: 1.780689366968038, RMSE: 1.3344247325975482, R^2: -0.0020242860041888022\n",
            "Model D - MSE: 1.733373684540573, RMSE: 1.3165765015906112, R^2: 0.024601055720577247\n"
          ]
        }
      ]
    },
    {
      "cell_type": "markdown",
      "id": "KATSn7hYlA_Z",
      "metadata": {
        "id": "KATSn7hYlA_Z"
      },
      "source": [
        "### Evaluate Models\n",
        "* Evaluate the performance of the four models with two metrics, including MSE and Root MSE\n",
        "* Print the results of the four models regarding the two metrics"
      ]
    },
    {
      "cell_type": "code",
      "execution_count": 22,
      "id": "4fU8GPS9lA_Z",
      "metadata": {
        "id": "4fU8GPS9lA_Z",
        "colab": {
          "base_uri": "https://localhost:8080/"
        },
        "outputId": "405473c6-e345-4bf6-8026-085b5d51a31e"
      },
      "outputs": [
        {
          "output_type": "stream",
          "name": "stdout",
          "text": [
            "Model A - MSE: 1.7679, RMSE: 1.3296\n",
            "Model B - MSE: 1.7197, RMSE: 1.3114\n",
            "Model C - MSE: 1.7807, RMSE: 1.3344\n",
            "Model D - MSE: 1.7334, RMSE: 1.3166\n"
          ]
        }
      ],
      "source": [
        "# the evaluation has already been done within the train_and_evaluate function,\n",
        "# and mse (Mean Squared Error) and rmse (Root Mean Squared Error) values are returned.\n",
        "\n",
        "mse_a, rmse_a, _ = train_and_evaluate(X_train_most_80, X_test_most_80, y_train_80, y_test_80)  # Model A\n",
        "mse_b, rmse_b, _ = train_and_evaluate(X_train_least_80, X_test_least_80, y_train_80, y_test_80)  # Model B\n",
        "mse_c, rmse_c, _ = train_and_evaluate(X_train_most_60, X_test_most_60, y_train_60, y_test_60)  # Model C\n",
        "mse_d, rmse_d, _ = train_and_evaluate(X_train_least_60, X_test_least_60, y_train_60, y_test_60)  # Model D\n",
        "\n",
        "# Printing the results\n",
        "print(\"Model A - MSE: {:.4f}, RMSE: {:.4f}\".format(mse_a, rmse_a))\n",
        "print(\"Model B - MSE: {:.4f}, RMSE: {:.4f}\".format(mse_b, rmse_b))\n",
        "print(\"Model C - MSE: {:.4f}, RMSE: {:.4f}\".format(mse_c, rmse_c))\n",
        "print(\"Model D - MSE: {:.4f}, RMSE: {:.4f}\".format(mse_d, rmse_d))\n"
      ]
    },
    {
      "cell_type": "markdown",
      "id": "Y9jx-eY6lA_a",
      "metadata": {
        "id": "Y9jx-eY6lA_a"
      },
      "source": [
        "### Visualize, Compare and Analyze the Results\n",
        "* Visulize the results, and perform ___insightful analysis___ on the obtained results. For better visualization, you may need to carefully set the scale for the y-axis.\n",
        "* Normally, the model trained with most correlated features and more training data will get better results. Do you obtain the similar observations? If not, please ___explain the possible reasons___."
      ]
    },
    {
      "cell_type": "code",
      "execution_count": 23,
      "id": "3TNAIGDilA_a",
      "metadata": {
        "id": "3TNAIGDilA_a",
        "colab": {
          "base_uri": "https://localhost:8080/",
          "height": 487
        },
        "outputId": "1172d51f-c732-4a9d-f4e6-439b17b13c29"
      },
      "outputs": [
        {
          "output_type": "display_data",
          "data": {
            "text/plain": [
              "<Figure size 640x480 with 1 Axes>"
            ],
            "image/png": "[encoded data removed]"
          },
          "metadata": {}
        }
      ],
      "source": [
        "import matplotlib.pyplot as plt\n",
        "import numpy as np\n",
        "\n",
        "mse_values = [mse_a, mse_b, mse_c, mse_d]\n",
        "rmse_values = [rmse_a, rmse_b, rmse_c, rmse_d]\n",
        "model_labels = ['Model A', 'Model B', 'Model C', 'Model D']\n",
        "\n",
        "# Creating the bar plots\n",
        "x = np.arange(len(model_labels))  # the label locations\n",
        "width = 0.35  # the width of the bars\n",
        "\n",
        "fig, ax = plt.subplots()\n",
        "rects1 = ax.bar(x - width/2, mse_values, width, label='MSE')\n",
        "rects2 = ax.bar(x + width/2, rmse_values, width, label='RMSE')\n",
        "\n",
        "ax.set_xlabel('Models')\n",
        "ax.set_ylabel('Scores')\n",
        "ax.set_title('MSE and RMSE by Model')\n",
        "ax.set_xticks(x)\n",
        "ax.set_xticklabels(model_labels)\n",
        "ax.legend()\n",
        "\n",
        "# to attach a text label above each bar, displaying its height.\n",
        "def autolabel(rects):\n",
        "    \"\"\"Attach a text label above each bar in *rects*, displaying its height.\"\"\"\n",
        "    for rect in rects:\n",
        "        height = rect.get_height()\n",
        "        ax.annotate('{}'.format(round(height, 2)),\n",
        "                    xy=(rect.get_x() + rect.get_width() / 2, height),\n",
        "                    xytext=(0, 3),  # 3 points vertical offset\n",
        "                    textcoords=\"offset points\",\n",
        "                    ha='center', va='bottom')\n",
        "\n",
        "autolabel(rects1)\n",
        "autolabel(rects2)\n",
        "\n",
        "fig.tight_layout()\n",
        "\n",
        "plt.show()\n"
      ]
    },
    {
      "cell_type": "markdown",
      "id": "f9ee01ac",
      "metadata": {
        "id": "f9ee01ac"
      },
      "source": [
        "### Data Science Ethics\n",
        "*Please read the following examples [Click here to read the example_1.](https://www.vox.com/covid-19-coronavirus-us-response-trump/2020/5/18/21262265/georgia-covid-19-cases-declining-reopening) [Click here to read the example_2.](https://viborc.com/ethics-and-ethical-data-visualization-a-complete-guide/)\n",
        "\n",
        "*Then view the picture ![My Image](figure_portfolio2.png \"This is my image\")\n",
        "Please compose an analysis of 100-200 words that evaluates potential ethical concerns associated with the infographic, detailing the reasons behind these issues.\n"
      ]
    },
    {
      "cell_type": "markdown",
      "source": [
        "The infographics from the 2008 Summer Olympics, comparing total medal counts and gold medals, raise ethical considerations. An ethical issue that we should consider is presenting of gold medals and total medals may lead to different interpretations of country’s performance. Sorting medals by gold could imply a greater value is attached to them, potentially overshadowing the accomplishments represented by silver and bronze medals. This situation might affect athletes from nations that have secured a large number of total medals but fewer golds, possibly leading to an unfair view of their achievements. Another important ethical aspect to consider is the data's accuracy and origin. Inaccuracies in the infographic or reliance on untrustworthy sources could mislead or misinform viewers. It's critical to verify that the data is accurate and that the sources are reputable to uphold honesty and trust. Additionally, the employment of national flags for representation needs to be approached with care. Flags can trigger intense feelings of patriotism, and their application in leaderboards could cause disputes or discomfort if it's interpreted as a ranking of countries themselves, rather than their performance in the Olympics. The context in which the infographic is displayed also plays a vital role."
      ],
      "metadata": {
        "id": "VdfuE0JqXuk-"
      },
      "id": "VdfuE0JqXuk-"
    }
  ],
  "metadata": {
    "colab": {
      "provenance": []
    },
    "kernelspec": {
      "display_name": "Python 3 (ipykernel)",
      "language": "python",
      "name": "python3"
    },
    "language_info": {
      "codemirror_mode": {
        "name": "ipython",
        "version": 3
      },
      "file_extension": ".py",
      "mimetype": "text/x-python",
      "name": "python",
      "nbconvert_exporter": "python",
      "pygments_lexer": "ipython3",
      "version": "3.11.4"
    }
  },
  "nbformat": 4,
  "nbformat_minor": 5
}