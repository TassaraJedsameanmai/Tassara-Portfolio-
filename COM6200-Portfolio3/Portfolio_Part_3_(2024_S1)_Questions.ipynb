{
  "nbformat": 4,
  "nbformat_minor": 0,
  "metadata": {
    "colab": {
      "provenance": []
    },
    "kernelspec": {
      "name": "python3",
      "display_name": "Python 3"
    },
    "language_info": {
      "name": "python"
    }
  },
  "cells": [
    {
      "cell_type": "markdown",
      "source": [
        "# Portfolio Part 3 - Analysis of Mobile Price Data (2024 S1)"
      ],
      "metadata": {
        "id": "n0ZKqZaTWkpg"
      }
    },
    {
      "cell_type": "markdown",
      "source": [
        "In this Portfolio task, you will work on a new dataset named 'Mobile Price Data', it contains numerous details about mobile phone hardware, specifications, and prices. Your main task is to train classification models to predict **mobile phone prices** ('price range' in the dataset)and evaluate the strengths and weaknesses of these models."
      ],
      "metadata": {
        "id": "O9R7rVmlXaMX"
      }
    },
    {
      "cell_type": "markdown",
      "source": [
        "Here's the explanation of each column:"
      ],
      "metadata": {
        "id": "zHC8wWkVZVBG"
      }
    },
    {
      "cell_type": "markdown",
      "source": [
        "|Column|Meaning|\n",
        "|:-----:|:-----:|\n",
        "|battery power|Total energy a battery can store in one time measured in mAh|\n",
        "|blue|Has bluetooth or not|\n",
        "|clock speed|speed at which microprocessor executes instructions|\n",
        "|dual sim|Has dual sim support or not|\n",
        "|fc|Front Camera mega pixels|\n",
        "|four g|Has 4G or not|\n",
        "|int memory|Internal Memory in Gigabytes|\n",
        "|m dep|Mobile Depth in cm|\n",
        "|mobile wt|Weight of mobile phone|\n",
        "|n cores|Number of cores of processor|\n",
        "|pc|Primary Camera mega pixels|\n",
        "|px height|Pixel Resolution Height|\n",
        "|px width|Pixel Resolution Width|\n",
        "|ram|Random Access Memory in Mega Bytes|\n",
        "|sc h|Screen Height of mobile in cm|\n",
        "|sc w|Screen Width of mobile in cm|\n",
        "|talk time|longest time that a single battery charge will last when you are|\n",
        "|three g|Has 3G or not|\n",
        "|touch screen|Has touch screen or not|\n",
        "|wifi|Has wifi or not|\n",
        "|price range|This is the target variable with value of 0(low cost), 1(medium cost), 2(high cost) and 3(very high cost)|"
      ],
      "metadata": {
        "id": "_O1tyfN3ZvE-"
      }
    },
    {
      "cell_type": "markdown",
      "source": [
        "Blue, dual sim, four g, three g, touch screen, and wifi are all binary attributes, 0 for not and 1 for yes."
      ],
      "metadata": {
        "id": "fmFqaGooclqa"
      }
    },
    {
      "cell_type": "markdown",
      "source": [
        "Your high level goal in this notebook is to build and evaluate predictive models for 'price range' from other available features. More specifically, you need to **complete the following major steps**:\n",
        "\n",
        "1. ***Explore the data*** and ***clean the data if necessary***. For example, remove abnormal instanaces and replace missing values.\n",
        "\n",
        "2. ***Study the correlation*** between 'price range' with other features. And ***select the variables*** that you think are helpful for predicting the price range. We do not limit the number of variables.\n",
        "\n",
        "3. ***Split the dataset*** (Trainging set : Test set = 8 : 2)\n",
        "\n",
        "4. ***Train a logistic regression model*** to predict 'price range' based on the selected features (from the second step). ***Calculate the accuracy*** of your model. (You are required to report the accuracy from both training set and test set.) ***Explain your model and evaluate its performance*** (Is the model performing well? If yes, what factors might be contributing to the good performance of your model? If not, how can improvements be made?).\n",
        "\n",
        "5. ***Train a KNN model*** to predict 'price range' based on the selected features (you can use the features selected from the second step and set K with an ad-hoc manner in this step. ***Calculate the accuracy*** of your model. (You are required to report the accuracy from both training set and test set.)\n",
        "\n",
        "6. ***Tune the hyper-parameter K*** in KNN (Hints: GridsearchCV), ***visualize the results***, and ***explain*** how K influences the prediction performance.\n",
        "\n",
        "  Hints for visualization: You can use line chart to visualize K and mean accuracy scores on test set."
      ],
      "metadata": {
        "id": "o0VDQbC-es_8"
      }
    },
    {
      "cell_type": "markdown",
      "source": [
        "Note 1: In this assignment, we no longer provide specific guidance and templates for each sub task. You should learn how to properly comment your notebook by yourself to make your notebook file readable.\n",
        "\n",
        "Note 2: You will not being evaluated on the accuracy of the model but on the process that you use to generate it and your explanation."
      ],
      "metadata": {
        "id": "RAcIxzIldzSZ"
      }
    },
    {
      "cell_type": "markdown",
      "source": [
        "## **Step 1 : Import Neccessary Libraries**"
      ],
      "metadata": {
        "id": "Qn5tr-ouTaZq"
      }
    },
    {
      "cell_type": "markdown",
      "source": [
        "Start by importing necessary libraries for data munipulation, visualization and machine learning modeling"
      ],
      "metadata": {
        "id": "saW_YVxtkc4a"
      }
    },
    {
      "cell_type": "code",
      "execution_count": null,
      "metadata": {
        "id": "UpCBB45NV0p_"
      },
      "outputs": [],
      "source": [
        "import pandas as pd\n",
        "import numpy as np\n",
        "import matplotlib.pyplot as plt\n",
        "import seaborn as sns\n",
        "\n",
        "from sklearn.model_selection import train_test_split\n",
        "from sklearn.linear_model import LogisticRegression\n",
        "from sklearn.metrics import accuracy_score\n",
        "\n",
        "from sklearn.neighbors import KNeighborsClassifier\n",
        "\n",
        "from sklearn.model_selection import GridSearchCV\n",
        "\n",
        "import warnings\n",
        "warnings.filterwarnings('ignore')\n",
        "\n",
        "%matplotlib inline"
      ]
    },
    {
      "cell_type": "markdown",
      "source": [
        "# **Step 2 : Loading and Exploring the Dataset**"
      ],
      "metadata": {
        "id": "IulsRlj8wcKJ"
      }
    },
    {
      "cell_type": "markdown",
      "source": [
        "this method is used to display the first few rows of the dataset, giving a glimpse of its structure and contents."
      ],
      "metadata": {
        "id": "KmU6VXS_lRAP"
      }
    },
    {
      "cell_type": "code",
      "source": [
        "df = pd.read_csv('/content/Mobile_Price_Data (1).csv')\n",
        "df.head()"
      ],
      "metadata": {
        "colab": {
          "base_uri": "https://localhost:8080/",
          "height": 255
        },
        "id": "Nx71FaStwgZ2",
        "outputId": "3864ecc5-a339-4832-f7a0-261b8d683075"
      },
      "execution_count": null,
      "outputs": [
        {
          "output_type": "execute_result",
          "data": {
            "text/plain": [
              "   battery_power  blue  clock_speed  dual_sim  fc  four_g  int_memory  m_dep  \\\n",
              "0            842     0          2.2         0   1       0         7.0    0.6   \n",
              "1           1021     1          0.5         1   0       1        53.0    0.7   \n",
              "2            563     1          0.5         1   2       1        41.0    0.9   \n",
              "3            615     1          2.5         0   0       0        10.0    0.8   \n",
              "4           1821     1          1.2         0  13       1        44.0    0.6   \n",
              "\n",
              "   mobile_wt  n_cores  ...  px_height  px_width     ram  sc_h  sc_w  \\\n",
              "0        188        2  ...         20     756.0  2549.0     9     7   \n",
              "1        136        3  ...        905    1988.0  2631.0    17     3   \n",
              "2        145        5  ...       1263    1716.0  2603.0    11     2   \n",
              "3        131        6  ...       1216    1786.0  2769.0    16     8   \n",
              "4        141        2  ...       1208    1212.0  1411.0     8     2   \n",
              "\n",
              "   talk_time  three_g  touch_screen  wifi  price_range  \n",
              "0         19      0.0             0     1            1  \n",
              "1          7      1.0             1     0            2  \n",
              "2          9      1.0             1     0            2  \n",
              "3         11      1.0             0     0            2  \n",
              "4         15      1.0             1     0            1  \n",
              "\n",
              "[5 rows x 21 columns]"
            ],
            "text/html": [
              "\n",
              "  <div id=\"df-2ef09d05-fe4b-4bda-97fb-2ce6625de054\" class=\"colab-df-container\">\n",
              "    <div>\n",
              "<style scoped>\n",
              "    .dataframe tbody tr th:only-of-type {\n",
              "        vertical-align: middle;\n",
              "    }\n",
              "\n",
              "    .dataframe tbody tr th {\n",
              "        vertical-align: top;\n",
              "    }\n",
              "\n",
              "    .dataframe thead th {\n",
              "        text-align: right;\n",
              "    }\n",
              "</style>\n",
              "<table border=\"1\" class=\"dataframe\">\n",
              "  <thead>\n",
              "    <tr style=\"text-align: right;\">\n",
              "      <th></th>\n",
              "      <th>battery_power</th>\n",
              "      <th>blue</th>\n",
              "      <th>clock_speed</th>\n",
              "      <th>dual_sim</th>\n",
              "      <th>fc</th>\n",
              "      <th>four_g</th>\n",
              "      <th>int_memory</th>\n",
              "      <th>m_dep</th>\n",
              "      <th>mobile_wt</th>\n",
              "      <th>n_cores</th>\n",
              "      <th>...</th>\n",
              "      <th>px_height</th>\n",
              "      <th>px_width</th>\n",
              "      <th>ram</th>\n",
              "      <th>sc_h</th>\n",
              "      <th>sc_w</th>\n",
              "      <th>talk_time</th>\n",
              "      <th>three_g</th>\n",
              "      <th>touch_screen</th>\n",
              "      <th>wifi</th>\n",
              "      <th>price_range</th>\n",
              "    </tr>\n",
              "  </thead>\n",
              "  <tbody>\n",
              "    <tr>\n",
              "      <th>0</th>\n",
              "      <td>842</td>\n",
              "      <td>0</td>\n",
              "      <td>2.2</td>\n",
              "      <td>0</td>\n",
              "      <td>1</td>\n",
              "      <td>0</td>\n",
              "      <td>7.0</td>\n",
              "      <td>0.6</td>\n",
              "      <td>188</td>\n",
              "      <td>2</td>\n",
              "      <td>...</td>\n",
              "      <td>20</td>\n",
              "      <td>756.0</td>\n",
              "      <td>2549.0</td>\n",
              "      <td>9</td>\n",
              "      <td>7</td>\n",
              "      <td>19</td>\n",
              "      <td>0.0</td>\n",
              "      <td>0</td>\n",
              "      <td>1</td>\n",
              "      <td>1</td>\n",
              "    </tr>\n",
              "    <tr>\n",
              "      <th>1</th>\n",
              "      <td>1021</td>\n",
              "      <td>1</td>\n",
              "      <td>0.5</td>\n",
              "      <td>1</td>\n",
              "      <td>0</td>\n",
              "      <td>1</td>\n",
              "      <td>53.0</td>\n",
              "      <td>0.7</td>\n",
              "      <td>136</td>\n",
              "      <td>3</td>\n",
              "      <td>...</td>\n",
              "      <td>905</td>\n",
              "      <td>1988.0</td>\n",
              "      <td>2631.0</td>\n",
              "      <td>17</td>\n",
              "      <td>3</td>\n",
              "      <td>7</td>\n",
              "      <td>1.0</td>\n",
              "      <td>1</td>\n",
              "      <td>0</td>\n",
              "      <td>2</td>\n",
              "    </tr>\n",
              "    <tr>\n",
              "      <th>2</th>\n",
              "      <td>563</td>\n",
              "      <td>1</td>\n",
              "      <td>0.5</td>\n",
              "      <td>1</td>\n",
              "      <td>2</td>\n",
              "      <td>1</td>\n",
              "      <td>41.0</td>\n",
              "      <td>0.9</td>\n",
              "      <td>145</td>\n",
              "      <td>5</td>\n",
              "      <td>...</td>\n",
              "      <td>1263</td>\n",
              "      <td>1716.0</td>\n",
              "      <td>2603.0</td>\n",
              "      <td>11</td>\n",
              "      <td>2</td>\n",
              "      <td>9</td>\n",
              "      <td>1.0</td>\n",
              "      <td>1</td>\n",
              "      <td>0</td>\n",
              "      <td>2</td>\n",
              "    </tr>\n",
              "    <tr>\n",
              "      <th>3</th>\n",
              "      <td>615</td>\n",
              "      <td>1</td>\n",
              "      <td>2.5</td>\n",
              "      <td>0</td>\n",
              "      <td>0</td>\n",
              "      <td>0</td>\n",
              "      <td>10.0</td>\n",
              "      <td>0.8</td>\n",
              "      <td>131</td>\n",
              "      <td>6</td>\n",
              "      <td>...</td>\n",
              "      <td>1216</td>\n",
              "      <td>1786.0</td>\n",
              "      <td>2769.0</td>\n",
              "      <td>16</td>\n",
              "      <td>8</td>\n",
              "      <td>11</td>\n",
              "      <td>1.0</td>\n",
              "      <td>0</td>\n",
              "      <td>0</td>\n",
              "      <td>2</td>\n",
              "    </tr>\n",
              "    <tr>\n",
              "      <th>4</th>\n",
              "      <td>1821</td>\n",
              "      <td>1</td>\n",
              "      <td>1.2</td>\n",
              "      <td>0</td>\n",
              "      <td>13</td>\n",
              "      <td>1</td>\n",
              "      <td>44.0</td>\n",
              "      <td>0.6</td>\n",
              "      <td>141</td>\n",
              "      <td>2</td>\n",
              "      <td>...</td>\n",
              "      <td>1208</td>\n",
              "      <td>1212.0</td>\n",
              "      <td>1411.0</td>\n",
              "      <td>8</td>\n",
              "      <td>2</td>\n",
              "      <td>15</td>\n",
              "      <td>1.0</td>\n",
              "      <td>1</td>\n",
              "      <td>0</td>\n",
              "      <td>1</td>\n",
              "    </tr>\n",
              "  </tbody>\n",
              "</table>\n",
              "<p>5 rows × 21 columns</p>\n",
              "</div>\n",
              "    <div class=\"colab-df-buttons\">\n",
              "\n",
              "  <div class=\"colab-df-container\">\n",
              "    <button class=\"colab-df-convert\" onclick=\"convertToInteractive('df-2ef09d05-fe4b-4bda-97fb-2ce6625de054')\"\n",
              "            title=\"Convert this dataframe to an interactive table.\"\n",
              "            style=\"display:none;\">\n",
              "\n",
              "  <svg xmlns=\"http://www.w3.org/2000/svg\" height=\"24px\" viewBox=\"0 -960 960 960\">\n",
              "    <path d=\"M120-120v-720h720v720H120Zm60-500h600v-160H180v160Zm220 220h160v-160H400v160Zm0 220h160v-160H400v160ZM180-400h160v-160H180v160Zm440 0h160v-160H620v160ZM180-180h160v-160H180v160Zm440 0h160v-160H620v160Z\"/>\n",
              "  </svg>\n",
              "    </button>\n",
              "\n",
              "  <style>\n",
              "    .colab-df-container {\n",
              "      display:flex;\n",
              "      gap: 12px;\n",
              "    }\n",
              "\n",
              "    .colab-df-convert {\n",
              "      background-color: #E8F0FE;\n",
              "      border: none;\n",
              "      border-radius: 50%;\n",
              "      cursor: pointer;\n",
              "      display: none;\n",
              "      fill: #1967D2;\n",
              "      height: 32px;\n",
              "      padding: 0 0 0 0;\n",
              "      width: 32px;\n",
              "    }\n",
              "\n",
              "    .colab-df-convert:hover {\n",
              "      background-color: #E2EBFA;\n",
              "      box-shadow: 0px 1px 2px rgba(60, 64, 67, 0.3), 0px 1px 3px 1px rgba(60, 64, 67, 0.15);\n",
              "      fill: #174EA6;\n",
              "    }\n",
              "\n",
              "    .colab-df-buttons div {\n",
              "      margin-bottom: 4px;\n",
              "    }\n",
              "\n",
              "    [theme=dark] .colab-df-convert {\n",
              "      background-color: #3B4455;\n",
              "      fill: #D2E3FC;\n",
              "    }\n",
              "\n",
              "    [theme=dark] .colab-df-convert:hover {\n",
              "      background-color: #434B5C;\n",
              "      box-shadow: 0px 1px 3px 1px rgba(0, 0, 0, 0.15);\n",
              "      filter: drop-shadow(0px 1px 2px rgba(0, 0, 0, 0.3));\n",
              "      fill: #FFFFFF;\n",
              "    }\n",
              "  </style>\n",
              "\n",
              "    <script>\n",
              "      const buttonEl =\n",
              "        document.querySelector('#df-2ef09d05-fe4b-4bda-97fb-2ce6625de054 button.colab-df-convert');\n",
              "      buttonEl.style.display =\n",
              "        google.colab.kernel.accessAllowed ? 'block' : 'none';\n",
              "\n",
              "      async function convertToInteractive(key) {\n",
              "        const element = document.querySelector('#df-2ef09d05-fe4b-4bda-97fb-2ce6625de054');\n",
              "        const dataTable =\n",
              "          await google.colab.kernel.invokeFunction('convertToInteractive',\n",
              "                                                    [key], {});\n",
              "        if (!dataTable) return;\n",
              "\n",
              "        const docLinkHtml = 'Like what you see? Visit the ' +\n",
              "          '<a target=\"_blank\" href=https://colab.research.google.com/notebooks/data_table.ipynb>data table notebook</a>'\n",
              "          + ' to learn more about interactive tables.';\n",
              "        element.innerHTML = '';\n",
              "        dataTable['output_type'] = 'display_data';\n",
              "        await google.colab.output.renderOutput(dataTable, element);\n",
              "        const docLink = document.createElement('div');\n",
              "        docLink.innerHTML = docLinkHtml;\n",
              "        element.appendChild(docLink);\n",
              "      }\n",
              "    </script>\n",
              "  </div>\n",
              "\n",
              "\n",
              "<div id=\"df-3e29142e-d1c5-4dfd-af2a-b5b8cf97aef0\">\n",
              "  <button class=\"colab-df-quickchart\" onclick=\"quickchart('df-3e29142e-d1c5-4dfd-af2a-b5b8cf97aef0')\"\n",
              "            title=\"Suggest charts\"\n",
              "            style=\"display:none;\">\n",
              "\n",
              "<svg xmlns=\"http://www.w3.org/2000/svg\" height=\"24px\"viewBox=\"0 0 24 24\"\n",
              "     width=\"24px\">\n",
              "    <g>\n",
              "        <path d=\"M19 3H5c-1.1 0-2 .9-2 2v14c0 1.1.9 2 2 2h14c1.1 0 2-.9 2-2V5c0-1.1-.9-2-2-2zM9 17H7v-7h2v7zm4 0h-2V7h2v10zm4 0h-2v-4h2v4z\"/>\n",
              "    </g>\n",
              "</svg>\n",
              "  </button>\n",
              "\n",
              "<style>\n",
              "  .colab-df-quickchart {\n",
              "      --bg-color: #E8F0FE;\n",
              "      --fill-color: #1967D2;\n",
              "      --hover-bg-color: #E2EBFA;\n",
              "      --hover-fill-color: #174EA6;\n",
              "      --disabled-fill-color: #AAA;\n",
              "      --disabled-bg-color: #DDD;\n",
              "  }\n",
              "\n",
              "  [theme=dark] .colab-df-quickchart {\n",
              "      --bg-color: #3B4455;\n",
              "      --fill-color: #D2E3FC;\n",
              "      --hover-bg-color: #434B5C;\n",
              "      --hover-fill-color: #FFFFFF;\n",
              "      --disabled-bg-color: #3B4455;\n",
              "      --disabled-fill-color: #666;\n",
              "  }\n",
              "\n",
              "  .colab-df-quickchart {\n",
              "    background-color: var(--bg-color);\n",
              "    border: none;\n",
              "    border-radius: 50%;\n",
              "    cursor: pointer;\n",
              "    display: none;\n",
              "    fill: var(--fill-color);\n",
              "    height: 32px;\n",
              "    padding: 0;\n",
              "    width: 32px;\n",
              "  }\n",
              "\n",
              "  .colab-df-quickchart:hover {\n",
              "    background-color: var(--hover-bg-color);\n",
              "    box-shadow: 0 1px 2px rgba(60, 64, 67, 0.3), 0 1px 3px 1px rgba(60, 64, 67, 0.15);\n",
              "    fill: var(--button-hover-fill-color);\n",
              "  }\n",
              "\n",
              "  .colab-df-quickchart-complete:disabled,\n",
              "  .colab-df-quickchart-complete:disabled:hover {\n",
              "    background-color: var(--disabled-bg-color);\n",
              "    fill: var(--disabled-fill-color);\n",
              "    box-shadow: none;\n",
              "  }\n",
              "\n",
              "  .colab-df-spinner {\n",
              "    border: 2px solid var(--fill-color);\n",
              "    border-color: transparent;\n",
              "    border-bottom-color: var(--fill-color);\n",
              "    animation:\n",
              "      spin 1s steps(1) infinite;\n",
              "  }\n",
              "\n",
              "  @keyframes spin {\n",
              "    0% {\n",
              "      border-color: transparent;\n",
              "      border-bottom-color: var(--fill-color);\n",
              "      border-left-color: var(--fill-color);\n",
              "    }\n",
              "    20% {\n",
              "      border-color: transparent;\n",
              "      border-left-color: var(--fill-color);\n",
              "      border-top-color: var(--fill-color);\n",
              "    }\n",
              "    30% {\n",
              "      border-color: transparent;\n",
              "      border-left-color: var(--fill-color);\n",
              "      border-top-color: var(--fill-color);\n",
              "      border-right-color: var(--fill-color);\n",
              "    }\n",
              "    40% {\n",
              "      border-color: transparent;\n",
              "      border-right-color: var(--fill-color);\n",
              "      border-top-color: var(--fill-color);\n",
              "    }\n",
              "    60% {\n",
              "      border-color: transparent;\n",
              "      border-right-color: var(--fill-color);\n",
              "    }\n",
              "    80% {\n",
              "      border-color: transparent;\n",
              "      border-right-color: var(--fill-color);\n",
              "      border-bottom-color: var(--fill-color);\n",
              "    }\n",
              "    90% {\n",
              "      border-color: transparent;\n",
              "      border-bottom-color: var(--fill-color);\n",
              "    }\n",
              "  }\n",
              "</style>\n",
              "\n",
              "  <script>\n",
              "    async function quickchart(key) {\n",
              "      const quickchartButtonEl =\n",
              "        document.querySelector('#' + key + ' button');\n",
              "      quickchartButtonEl.disabled = true;  // To prevent multiple clicks.\n",
              "      quickchartButtonEl.classList.add('colab-df-spinner');\n",
              "      try {\n",
              "        const charts = await google.colab.kernel.invokeFunction(\n",
              "            'suggestCharts', [key], {});\n",
              "      } catch (error) {\n",
              "        console.error('Error during call to suggestCharts:', error);\n",
              "      }\n",
              "      quickchartButtonEl.classList.remove('colab-df-spinner');\n",
              "      quickchartButtonEl.classList.add('colab-df-quickchart-complete');\n",
              "    }\n",
              "    (() => {\n",
              "      let quickchartButtonEl =\n",
              "        document.querySelector('#df-3e29142e-d1c5-4dfd-af2a-b5b8cf97aef0 button');\n",
              "      quickchartButtonEl.style.display =\n",
              "        google.colab.kernel.accessAllowed ? 'block' : 'none';\n",
              "    })();\n",
              "  </script>\n",
              "</div>\n",
              "\n",
              "    </div>\n",
              "  </div>\n"
            ],
            "application/vnd.google.colaboratory.intrinsic+json": {
              "type": "dataframe",
              "variable_name": "df"
            }
          },
          "metadata": {},
          "execution_count": 23
        }
      ]
    },
    {
      "cell_type": "markdown",
      "source": [
        "## **Step 3 : Cleaning the data and Remove Missing Data**"
      ],
      "metadata": {
        "id": "f0Dg24o6w9eV"
      }
    },
    {
      "cell_type": "markdown",
      "source": [
        "  In this stage to detect any absent values and unusual instances within the dataset. We use .isnull().sum() to spot missing values and replace them with the median using .fillna(). This process guarantees that the dataset is free from inconsistencies and prepared for analysis."
      ],
      "metadata": {
        "id": "laLaIQEolt6S"
      }
    },
    {
      "cell_type": "code",
      "source": [
        "# Check for missing values\n",
        "print(df.isnull().sum())\n",
        "\n",
        "# Check for any abnormal instances\n",
        "print(df.describe())"
      ],
      "metadata": {
        "colab": {
          "base_uri": "https://localhost:8080/"
        },
        "id": "oIGOMoA16ixC",
        "outputId": "cb8ab5ff-f881-4102-d147-00141f9f64f5"
      },
      "execution_count": null,
      "outputs": [
        {
          "output_type": "stream",
          "name": "stdout",
          "text": [
            "battery_power    0\n",
            "blue             0\n",
            "clock_speed      0\n",
            "dual_sim         0\n",
            "fc               0\n",
            "four_g           0\n",
            "int_memory       1\n",
            "m_dep            1\n",
            "mobile_wt        0\n",
            "n_cores          0\n",
            "pc               0\n",
            "px_height        0\n",
            "px_width         1\n",
            "ram              1\n",
            "sc_h             0\n",
            "sc_w             0\n",
            "talk_time        0\n",
            "three_g          1\n",
            "touch_screen     0\n",
            "wifi             0\n",
            "price_range      0\n",
            "dtype: int64\n",
            "       battery_power       blue  clock_speed     dual_sim           fc  \\\n",
            "count    2000.000000  2000.0000  2000.000000  2000.000000  2000.000000   \n",
            "mean     1238.518500     0.4950     1.522250     0.509500     4.309500   \n",
            "std       439.418206     0.5001     0.816004     0.500035     4.341444   \n",
            "min       501.000000     0.0000     0.500000     0.000000     0.000000   \n",
            "25%       851.750000     0.0000     0.700000     0.000000     1.000000   \n",
            "50%      1226.000000     0.0000     1.500000     1.000000     3.000000   \n",
            "75%      1615.250000     1.0000     2.200000     1.000000     7.000000   \n",
            "max      1998.000000     1.0000     3.000000     1.000000    19.000000   \n",
            "\n",
            "            four_g   int_memory        m_dep    mobile_wt      n_cores  ...  \\\n",
            "count  2000.000000  1999.000000  1999.000000  2000.000000  2000.000000  ...   \n",
            "mean      0.521500    32.035018     0.501601   140.249000     4.520500  ...   \n",
            "std       0.499662    18.142986     0.288411    35.399655     2.287837  ...   \n",
            "min       0.000000     2.000000     0.100000    80.000000     1.000000  ...   \n",
            "25%       0.000000    16.000000     0.200000   109.000000     3.000000  ...   \n",
            "50%       1.000000    32.000000     0.500000   141.000000     4.000000  ...   \n",
            "75%       1.000000    48.000000     0.800000   170.000000     7.000000  ...   \n",
            "max       1.000000    64.000000     1.000000   200.000000     8.000000  ...   \n",
            "\n",
            "         px_height     px_width          ram         sc_h         sc_w  \\\n",
            "count  2000.000000  1999.000000  1999.000000  2000.000000  2000.000000   \n",
            "mean    645.108000  1251.566783  2124.218609    12.306500     5.767000   \n",
            "std     443.780811   432.301505  1085.003435     4.213245     4.356398   \n",
            "min       0.000000   500.000000   256.000000     5.000000     0.000000   \n",
            "25%     282.750000   874.500000  1207.000000     9.000000     2.000000   \n",
            "50%     564.000000  1247.000000  2147.000000    12.000000     5.000000   \n",
            "75%     947.250000  1633.000000  3065.000000    16.000000     9.000000   \n",
            "max    1960.000000  1998.000000  3998.000000    19.000000    18.000000   \n",
            "\n",
            "         talk_time      three_g  touch_screen         wifi  price_range  \n",
            "count  2000.000000  1999.000000   2000.000000  2000.000000  2000.000000  \n",
            "mean     11.011000     0.761381      0.503000     0.507000     1.500000  \n",
            "std       5.463955     0.426346      0.500116     0.500076     1.118314  \n",
            "min       2.000000     0.000000      0.000000     0.000000     0.000000  \n",
            "25%       6.000000     1.000000      0.000000     0.000000     0.750000  \n",
            "50%      11.000000     1.000000      1.000000     1.000000     1.500000  \n",
            "75%      16.000000     1.000000      1.000000     1.000000     2.250000  \n",
            "max      20.000000     1.000000      1.000000     1.000000     3.000000  \n",
            "\n",
            "[8 rows x 21 columns]\n"
          ]
        }
      ]
    },
    {
      "cell_type": "code",
      "source": [
        "# Replace missing values with the median\n",
        "df = df.fillna(df.median())\n",
        "\n",
        "# this step to recheck missing values\n",
        "replaced_missingval = df.isnull().sum()\n",
        "print(\"Replaced Missing Value\")\n",
        "\n",
        "print(replaced_missingval)"
      ],
      "metadata": {
        "colab": {
          "base_uri": "https://localhost:8080/"
        },
        "id": "AFopHryhALs5",
        "outputId": "7d8142f3-34fb-456d-cfce-1aab5abce5b2"
      },
      "execution_count": null,
      "outputs": [
        {
          "output_type": "stream",
          "name": "stdout",
          "text": [
            "Replaced Missing Value\n",
            "battery_power    0\n",
            "blue             0\n",
            "clock_speed      0\n",
            "dual_sim         0\n",
            "fc               0\n",
            "four_g           0\n",
            "int_memory       0\n",
            "m_dep            0\n",
            "mobile_wt        0\n",
            "n_cores          0\n",
            "pc               0\n",
            "px_height        0\n",
            "px_width         0\n",
            "ram              0\n",
            "sc_h             0\n",
            "sc_w             0\n",
            "talk_time        0\n",
            "three_g          0\n",
            "touch_screen     0\n",
            "wifi             0\n",
            "price_range      0\n",
            "dtype: int64\n"
          ]
        }
      ]
    },
    {
      "cell_type": "markdown",
      "source": [
        "# **Step 5 : Check for correlation between features and the target variable**\n",
        "We'll analyze the correlation between 'price range' and other features and select the variables we believe are relevant for predicting the price range"
      ],
      "metadata": {
        "id": "oNkiDHqMz_t-"
      }
    },
    {
      "cell_type": "code",
      "source": [
        "correlation_matrix = df.corr()\n",
        "correlation = correlation_matrix['price_range'].sort_values(ascending=False)\n",
        "print(correlation)"
      ],
      "metadata": {
        "colab": {
          "base_uri": "https://localhost:8080/"
        },
        "id": "L422XnFOE57A",
        "outputId": "f21765b3-ccf9-4c78-f74e-90c6b64cfea5"
      },
      "execution_count": null,
      "outputs": [
        {
          "output_type": "stream",
          "name": "stdout",
          "text": [
            "price_range      1.000000\n",
            "ram              0.917039\n",
            "battery_power    0.200723\n",
            "px_width         0.165668\n",
            "px_height        0.148858\n",
            "int_memory       0.044169\n",
            "sc_w             0.038711\n",
            "pc               0.033599\n",
            "three_g          0.023611\n",
            "sc_h             0.022986\n",
            "fc               0.021998\n",
            "talk_time        0.021859\n",
            "blue             0.020573\n",
            "wifi             0.018785\n",
            "dual_sim         0.017444\n",
            "four_g           0.014772\n",
            "n_cores          0.004399\n",
            "m_dep            0.000155\n",
            "clock_speed     -0.006606\n",
            "mobile_wt       -0.030302\n",
            "touch_screen    -0.030411\n",
            "Name: price_range, dtype: float64\n"
          ]
        }
      ]
    },
    {
      "cell_type": "markdown",
      "source": [
        "Based on the correlation matrix and domain knowledge, select the features that are most correlated with the target variable 'price range'. Then, proceed with splitting the dataset into training and testing sets."
      ],
      "metadata": {
        "id": "9WaqVnCX7HOw"
      }
    },
    {
      "cell_type": "markdown",
      "source": [
        "## **Step 6 : Split the dataset into training and testing dataset**"
      ],
      "metadata": {
        "id": "rvR5bJ107NqS"
      }
    },
    {
      "cell_type": "markdown",
      "source": [
        "The dataset is separated into input features (X) and the target variable (y). Next, it is divided into training and testing sets using the train_test_split() function from scikit-learn. The split ratio selected is 80% for training and 20% for testing. Therefore in this case I chose 4 features includes ram, bettery power, px_width, and px_height which are top 4 the highest correlation.\n",
        "\n",
        "\n"
      ],
      "metadata": {
        "id": "IJtQFz7Rm-rz"
      }
    },
    {
      "cell_type": "code",
      "source": [
        "# Selecting features 'ram', 'battery_power', 'px_width', and 'px_height' for X, and 'price_range' for y\n",
        "features = ['ram', 'battery_power', 'px_width', 'px_height']\n",
        "X = df[features]\n",
        "y = df['price_range']\n",
        "\n",
        "# Splitting the dataset into training and testing sets\n",
        "X_train, X_test, y_train, y_test = train_test_split(X, y, test_size=0.2, random_state=142)\n",
        "\n",
        "# Confirming the sizes of the splits to ensure the ratio\n",
        "sizes = (X_train.shape, X_test.shape, y_train.shape, y_test.shape)\n",
        "print(\"Sizes of splits:\", sizes)\n"
      ],
      "metadata": {
        "id": "IWhRaB8h7IvY",
        "colab": {
          "base_uri": "https://localhost:8080/"
        },
        "outputId": "a3581a5d-cd99-4b68-85b6-204154a2018c"
      },
      "execution_count": null,
      "outputs": [
        {
          "output_type": "stream",
          "name": "stdout",
          "text": [
            "Sizes of splits: ((1600, 4), (400, 4), (1600,), (400,))\n"
          ]
        }
      ]
    },
    {
      "cell_type": "markdown",
      "source": [
        "The results show\n",
        "\n",
        "*   (1600, 4) is the shape of the X_train dataset. It means that there are 1,600 examples has 4 features( ram, bettery power, px_width, px_height)\n",
        "*   (400,4_) is the shape of the X_test dataset, presenting there are 400 examples in the test set with the same 4 features as the training set.\n",
        "\n",
        "\n",
        "*   (1600, ) This presents the shape of he y_train dataset, which is the set of target variable(price_range) corresponding to the X_train dataset. There are 1,600 labels here, one for each training example.\n",
        "*   (400, ) This is the shape of the y_test dataset, containing 400 target variables for the test set, one for each test set.\n",
        "\n",
        "\n",
        "\n",
        "\n"
      ],
      "metadata": {
        "id": "fHMzWOhOoLuV"
      }
    },
    {
      "cell_type": "markdown",
      "source": [
        "## **Step 7 : Train a logistic regression model and evaluate its performance.**"
      ],
      "metadata": {
        "id": "G8aGS1rQ7_rG"
      }
    },
    {
      "cell_type": "code",
      "source": [
        "# Instantiate a logistic regression model with a maximum of 1000 iterations\n",
        "logistic_model = LogisticRegression(max_iter=1000)\n",
        "\n",
        "# Train the logistic regression model on the training data\n",
        "logistic_model.fit(X_train, y_train)\n",
        "\n",
        "# Make predictions on the training and testing sets\n",
        "y_train_predicted = logistic_model.predict(X_train)\n",
        "y_test_predicted = logistic_model.predict(X_test)\n",
        "\n",
        "# Assess the accuracy of the model\n",
        "training_accuracy = accuracy_score(y_train, y_train_predicted)\n",
        "testing_accuracy = accuracy_score(y_test, y_test_predicted)\n",
        "\n",
        "# Display the accuracy scores\n",
        "print(\"Accuracy on the training set:\", training_accuracy)\n",
        "print(\"Accuracy on the testing set:\", testing_accuracy)"
      ],
      "metadata": {
        "colab": {
          "base_uri": "https://localhost:8080/"
        },
        "id": "50hyDWi0C7B9",
        "outputId": "145eda9d-1f14-4986-baae-d9ee4bfc78c1"
      },
      "execution_count": null,
      "outputs": [
        {
          "output_type": "stream",
          "name": "stdout",
          "text": [
            "Accuracy on the training set: 0.960625\n",
            "Accuracy on the testing set: 0.96\n"
          ]
        }
      ]
    },
    {
      "cell_type": "markdown",
      "source": [
        "# **Step 8 : Performance Evaluation**\n"
      ],
      "metadata": {
        "id": "Mg21mth5qzSX"
      }
    },
    {
      "cell_type": "markdown",
      "source": [
        "After training the logistic regression model and assessing its performance, we achieved accuracy rates of approximately 96.06% on the training set and 96.00% on the testing set. These accuracy scores reflect the percentage of correctly predicted instances within each dataset. The high accuracy score on the testing set, closely aligned with that of the training set, implies that the model generalizes effectively to new data, showcasing its proficiency in making precise predictions."
      ],
      "metadata": {
        "id": "abfZKbXjq6dO"
      }
    },
    {
      "cell_type": "markdown",
      "source": [
        "## **Step 9 : Train a KNN model**"
      ],
      "metadata": {
        "id": "JmgiLf6h9_0u"
      }
    },
    {
      "cell_type": "code",
      "source": [
        "# Instantiate a KNN model with 5 neighbors\n",
        "knn_classifier = KNeighborsClassifier(n_neighbors=5)\n",
        "\n",
        "# Train the KNN model on the training data\n",
        "knn_classifier.fit(X_train, y_train)\n",
        "\n",
        "# Predict the target variable on both training and testing sets\n",
        "y_train_predicted_knn = knn_classifier.predict(X_train)\n",
        "y_test_predicted_knn = knn_classifier.predict(X_test)\n",
        "\n",
        "# Calculate the accuracy of the KNN model on both sets\n",
        "training_accuracy_knn = accuracy_score(y_train, y_train_predicted_knn)\n",
        "testing_accuracy_knn = accuracy_score(y_test, y_test_predicted_knn)\n",
        "\n",
        "# Output the accuracy scores\n",
        "print(\"Accuracy on the training set:\", training_accuracy_knn)\n",
        "print(\"Accuracy on the testing set:\", testing_accuracy_knn)\n"
      ],
      "metadata": {
        "colab": {
          "base_uri": "https://localhost:8080/"
        },
        "id": "imRGTTkj-B3k",
        "outputId": "2250ff6a-6722-4e9a-e9fa-7477b2f78b62"
      },
      "execution_count": null,
      "outputs": [
        {
          "output_type": "stream",
          "name": "stdout",
          "text": [
            "Accuracy on the training set: 0.949375\n",
            "Accuracy on the testing set: 0.92\n"
          ]
        }
      ]
    },
    {
      "cell_type": "markdown",
      "source": [
        "We employed k = 5 for the KNN model. The model demonstrated commendable performance, achieving an accuracy of 95% during training. Although the accuracy slightly decreased to 92% during testing, this marginal difference could suggest some degree of overfitting. However, the 92% accuracy on the test set indicates that the model generalizes well to unseen data."
      ],
      "metadata": {
        "id": "lR0tPncPwjsn"
      }
    },
    {
      "cell_type": "markdown",
      "source": [
        "## **Step 10 : Tuning the hyper-parameter K**"
      ],
      "metadata": {
        "id": "PUYAz7Btvmtl"
      }
    },
    {
      "cell_type": "code",
      "source": [
        "# Tuning Hyperparameters for KNN\n",
        "# Utilizing GridSearchCV for hyperparameter tuning\n",
        "# Defining a range of k values to test\n",
        "param_grid = {'n_neighbors': np.arange(1, 30)}\n",
        "\n",
        "# Creating a KNN model\n",
        "knn_classifier = KNeighborsClassifier()\n",
        "\n",
        "# Implementing GridSearchCV with 5-fold cross-validation\n",
        "grid_search_knn = GridSearchCV(knn_classifier, param_grid, cv=5, scoring='accuracy')\n",
        "\n",
        "# Fitting GridSearchCV\n",
        "grid_search_knn.fit(X_train, y_train)\n",
        "\n",
        "# Extracting the best parameters and the accuracy for the optimal k\n",
        "best_k_knn = grid_search_knn.best_params_['n_neighbors']\n",
        "best_cv_accuracy_knn = grid_search_knn.best_score_\n",
        "best_knn_model = grid_search_knn.best_estimator_\n",
        "\n",
        "# Predicting on the test set using the best k\n",
        "y_test_pred_best_k = best_knn_model.predict(X_test)\n",
        "best_test_accuracy_knn = accuracy_score(y_test, y_test_pred_best_k)\n",
        "\n",
        "print(\"Best k:\", best_k_knn)\n",
        "print(\"Best k Accuracy:\", best_cv_accuracy_knn)\n",
        "print(\"Best test Accuracy:\", best_test_accuracy_knn)\n",
        "\n"
      ],
      "metadata": {
        "colab": {
          "base_uri": "https://localhost:8080/"
        },
        "id": "WfVYSzHNDUXq",
        "outputId": "6d107a4d-8dff-46e6-e333-b06dae921059"
      },
      "execution_count": null,
      "outputs": [
        {
          "output_type": "stream",
          "name": "stdout",
          "text": [
            "Best k: 21\n",
            "Best k Accuracy: 0.9256250000000001\n",
            "Best test Accuracy: 0.945\n"
          ]
        }
      ]
    },
    {
      "cell_type": "code",
      "source": [
        "mean_test_scores_knn = grid_search_knn.cv_results_['mean_test_score']\n",
        "k_values_knn = np.arange(1, 30)\n",
        "\n",
        "plt.figure(figsize=(10, 6))\n",
        "plt.plot(k_values_knn, mean_test_scores_knn, marker='o', linestyle='-', color='g')  # Changing color to green\n",
        "plt.xlabel('Number of Neighbors: K')\n",
        "plt.ylabel('Cross-Validated Accuracy')\n",
        "plt.title('K vs. Mean Accuracy')\n",
        "plt.grid(True)\n",
        "plt.show()\n"
      ],
      "metadata": {
        "colab": {
          "base_uri": "https://localhost:8080/",
          "height": 564
        },
        "id": "_EBfjRlsK8yU",
        "outputId": "c0997535-8015-48ed-8a70-4d05d6a458a8"
      },
      "execution_count": null,
      "outputs": [
        {
          "output_type": "display_data",
          "data": {
            "text/plain": [
              "<Figure size 1000x600 with 1 Axes>"
            ],
            "image/png": "[encoded data removed]"
          },
          "metadata": {}
        }
      ]
    },
    {
      "cell_type": "markdown",
      "source": [
        "The plot illustrates a sharp increase in accuracy as K increase from 1 to approximately 7, indicating that a single nearest neighbor isn't a reliable predictor, while a small cluster of neighbors stabilizes predictions. While\n",
        "K around 7, the accuracy improvement becomes less pronounced, and the curve levels off with some fluctuations, suggesting that adding more neighbors does not significantly improve the model's accuracy. The peak accuracy occurs at K=21, identified as the optimal number of neighbors with the highest cross-validated accuracy (~0.926), as confirmed in the output. This indicates that employing 21 neighbors strikes the best balance between bias and variance for the dataset. Finally, the test accuracy at K=21 is 0.495 which is over the cross-validation accuracy. Moreover, it indicates that the model effectively generalizes well to unseen data"
      ],
      "metadata": {
        "id": "ITPkeMP9zUvI"
      }
    },
    {
      "cell_type": "markdown",
      "source": [
        "## Tassara Jedsameanmai 48188964"
      ],
      "metadata": {
        "id": "RS03hym_26zG"
      }
    }
  ]
}